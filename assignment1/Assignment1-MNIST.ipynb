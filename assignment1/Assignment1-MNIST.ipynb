{
 "cells": [
  {
   "cell_type": "markdown",
   "metadata": {
    "id": "pNnJICs0gKQW"
   },
   "source": [
    "# IF240 - Apprentissage et deep learning\n",
    "\n",
    "## Assignment 1: K-Means, Naive Bayes, SVMs and CNNs"
   ]
  },
  {
   "cell_type": "markdown",
   "metadata": {
    "id": "VywMttxcgKQe"
   },
   "source": [
    "### Objectives \n",
    "\n",
    "The objective of this assignment is to apply different classification algorithms for the application of handwritten digits recognition."
   ]
  },
  {
   "cell_type": "markdown",
   "metadata": {
    "id": "L0h5f98RgKQf"
   },
   "source": [
    "# PART 0 - Preparing the dataset"
   ]
  },
  {
   "cell_type": "markdown",
   "metadata": {
    "id": "TTizhf3_gKQh"
   },
   "source": [
    "In this practice, you will experiment with the well-known MNIST dataset"
   ]
  },
  {
   "cell_type": "code",
   "execution_count": 6,
   "metadata": {
    "executionInfo": {
     "elapsed": 4116,
     "status": "ok",
     "timestamp": 1619273749874,
     "user": {
      "displayName": "sohaib errabii",
      "photoUrl": "",
      "userId": "02539498648735437705"
     },
     "user_tz": -120
    },
    "id": "2EQ1DB_KgKQi"
   },
   "outputs": [],
   "source": [
    "import numpy as np\n",
    "import torch\n",
    "import matplotlib.pyplot as plt\n",
    "import torch.nn as nn\n",
    "import torch.nn.functional as F\n",
    "\n",
    "from sklearn.metrics import accuracy_score\n",
    "from sklearn.metrics import confusion_matrix\n",
    "\n",
    "import MNISTtools"
   ]
  },
  {
   "cell_type": "markdown",
   "metadata": {
    "id": "P3pJZEgKgKQj"
   },
   "source": [
    "Let us first load and normalize MNIST testing and training data. This dataset is made of 60000 grayscale images of size 28$\\times$28"
   ]
  },
  {
   "cell_type": "code",
   "execution_count": 126,
   "metadata": {
    "colab": {
     "base_uri": "https://localhost:8080/"
    },
    "executionInfo": {
     "elapsed": 704,
     "status": "ok",
     "timestamp": 1619273928312,
     "user": {
      "displayName": "sohaib errabii",
      "photoUrl": "",
      "userId": "02539498648735437705"
     },
     "user_tz": -120
    },
    "id": "G-4R4pD7gKQk",
    "outputId": "4166b55a-da2a-48e1-dfbf-fe5591444eee"
   },
   "outputs": [
    {
     "name": "stdout",
     "output_type": "stream",
     "text": [
      "33.318421449829934\n",
      "78.56748998339798\n"
     ]
    }
   ],
   "source": [
    "x_train, y_train = MNISTtools.load(dataset='training')\n",
    "x_test, y_test = MNISTtools.load(dataset='testing')\n",
    "print(np.mean(x_train))\n",
    "print(np.std(x_train))\n",
    "#MNISTtools.show(x_train[:,0])\n",
    "#print(y_train[0])"
   ]
  },
  {
   "cell_type": "markdown",
   "metadata": {
    "id": "_r062EHfgKQl"
   },
   "source": [
    "To reduce the computation cost, we only select a small part of $n$ images for further analysis. _You might modify this value later to visualise its influence on the results._"
   ]
  },
  {
   "cell_type": "code",
   "execution_count": 8,
   "metadata": {
    "executionInfo": {
     "elapsed": 432,
     "status": "ok",
     "timestamp": 1619273931383,
     "user": {
      "displayName": "sohaib errabii",
      "photoUrl": "",
      "userId": "02539498648735437705"
     },
     "user_tz": -120
    },
    "id": "5EEV3hIjgKQm"
   },
   "outputs": [],
   "source": [
    "n = 5000\n",
    "x_train = x_train[:,1:n+1]\n",
    "y_train = y_train[1:n+1]"
   ]
  },
  {
   "cell_type": "markdown",
   "metadata": {
    "id": "RVAQGV29gKQm"
   },
   "source": [
    "## Question 1\n",
    "\n",
    "How many training and testing images compose the dataset? What are the dimensions of the data samples?"
   ]
  },
  {
   "cell_type": "markdown",
   "metadata": {},
   "source": [
    "- Training DataSet size 4999 <br>\n",
    "- Testing DataSet size 10000 <br>\n",
    "- Data sample dimension 784 (vector) = 28 x 28 (matrix)"
   ]
  },
  {
   "cell_type": "code",
   "execution_count": 127,
   "metadata": {
    "id": "jekT8Xh3gKQs"
   },
   "outputs": [
    {
     "name": "stdout",
     "output_type": "stream",
     "text": [
      "(784, 60000)\n",
      "(784, 10000)\n"
     ]
    }
   ],
   "source": [
    "print(x_train.shape)\n",
    "print(x_test.shape)"
   ]
  },
  {
   "cell_type": "markdown",
   "metadata": {
    "id": "5q0Ez6SFgKQs"
   },
   "source": [
    "To visualize the images, the vectors must be reshaped to a grayscale square image.  "
   ]
  },
  {
   "cell_type": "code",
   "execution_count": 11,
   "metadata": {
    "colab": {
     "base_uri": "https://localhost:8080/",
     "height": 548
    },
    "executionInfo": {
     "elapsed": 1174,
     "status": "ok",
     "timestamp": 1619273934750,
     "user": {
      "displayName": "sohaib errabii",
      "photoUrl": "",
      "userId": "02539498648735437705"
     },
     "user_tz": -120
    },
    "id": "qkyzwHyjgKQt",
    "outputId": "aafa2eaf-28ef-4cc1-ee99-5eb6206a670d"
   },
   "outputs": [
    {
     "data": {
      "image/png": "[encoded data removed]",
      "text/plain": [
       "<Figure size 432x288 with 1 Axes>"
      ]
     },
     "metadata": {
      "needs_background": "light"
     },
     "output_type": "display_data"
    },
    {
     "name": "stdout",
     "output_type": "stream",
     "text": [
      "the label of image 42 is 9\n"
     ]
    },
    {
     "data": {
      "image/png": "[encoded data removed]",
      "text/plain": [
       "<Figure size 432x288 with 1 Axes>"
      ]
     },
     "metadata": {
      "needs_background": "light"
     },
     "output_type": "display_data"
    },
    {
     "name": "stdout",
     "output_type": "stream",
     "text": [
      "the label of image 200 is 1\n"
     ]
    }
   ],
   "source": [
    "x_test_im = x_test.reshape((28, 28, 1, -1))\n",
    "\n",
    "x_train_im = x_train.reshape((28, 28, 1, -1))\n",
    "\n",
    "# let us show image number 42 and its label\n",
    "MNISTtools.show(x_train_im[:, :, 0, 42])\n",
    "print(\"the label of image 42 is\", y_train[42])\n",
    "\n",
    "# let us show image number 200 and its label\n",
    "MNISTtools.show(x_train_im[:, :, 0, 200])\n",
    "print(\"the label of image 200 is\", y_train[200])"
   ]
  },
  {
   "cell_type": "markdown",
   "metadata": {
    "id": "_WhVxBiGgKQt"
   },
   "source": [
    "# PART 1 - K-Means\n",
    "\n",
    "In this first part you must group the testing set into 10 clusters using the K-Means algorithm. \n",
    "You must observe the clustering result by visualizing as images the computed centroids and by checking if each found cluster corresponds to one label from the ground truth given by `y_test`. In other words, check to which cluster is assigned each data point, as in a classification problem. Analyse the results. \n",
    "\n",
    "Be careful: the index of the clusters you find (named `pred_labels` here) does not mandatorily correspond to the digit value (initial label `y_test`). One way to find which label corresponds to each cluster is to visualise the centroid image, or to compute the mode of each class in the ground truth, for example using the following code:\n",
    "\n",
    "```\n",
    "from scipy.stats import mode\n",
    "real_pred_labels = np.zeros_like(pred_labels)\n",
    "real_pred_centers = np.zeros_like(pred_centers)\n",
    "for i in range(10):\n",
    "    indices = np.where(pred_labels == i)[0]\n",
    "    real_value = mode(y_test[indices])[0]\n",
    "    real_pred_labels[indices] = real_value\n",
    "    real_pred_centers[real_value] = pred_centers[i]\n",
    "```"
   ]
  },
  {
   "cell_type": "code",
   "execution_count": 128,
   "metadata": {
    "executionInfo": {
     "elapsed": 422,
     "status": "ok",
     "timestamp": 1619273940055,
     "user": {
      "displayName": "sohaib errabii",
      "photoUrl": "",
      "userId": "02539498648735437705"
     },
     "user_tz": -120
    },
    "id": "jOegnQAfgKQt"
   },
   "outputs": [],
   "source": [
    "# Transpose data, necessary for K-Means, Naive Bayes and SVM with sklearn\n",
    "x_test_t =  np.transpose(x_test)\n",
    "x_train_t =  np.transpose(x_train)"
   ]
  },
  {
   "cell_type": "markdown",
   "metadata": {
    "id": "35VZ2RmIgKQt"
   },
   "source": [
    "## Question 2\n",
    "\n",
    "Implement K-Means. Add comments to your code as necessary to make it more explicit"
   ]
  },
  {
   "cell_type": "code",
   "execution_count": 200,
   "metadata": {
    "id": "X3gydo4agKQu"
   },
   "outputs": [],
   "source": [
    "class Kmeans(object):\n",
    "    \n",
    "    def __init__(self):\n",
    "        self.centroids = None\n",
    "        self.labels = None\n",
    "        \n",
    "    # Function: getDistance\n",
    "    # -------------\n",
    "    # Returns the distance between two points\n",
    "    def getDistance(self, point1, point2):\n",
    "        return np.linalg.norm(point1-point2)\n",
    "\n",
    "\n",
    "    # Function: getRandomCentroids\n",
    "    # -------------\n",
    "    # Initialize centroids by choosing randomly k points from the dataset\n",
    "    def getRandomCentroids(self, dataSet, numClusters):\n",
    "        numPoints, _ = dataSet.shape\n",
    "        centroids = dataSet[np.random.randint(numPoints, size =  numClusters), :]\n",
    "        return centroids\n",
    "\n",
    "\n",
    "    # Function: shouldStop\n",
    "    # -------------\n",
    "    # Returns True or False if k-means if the maximum number of iterations is reached \n",
    "    # or if the centroids do not change anymore\n",
    "    def shouldStop(self, oldCentroids, centroids, iterations, MAX_ITERATIONS, UNTIL_CONV=False):\n",
    "        if ((not UNTIL_CONV) and iterations > MAX_ITERATIONS): \n",
    "            return True\n",
    "        return np.array_equal(oldCentroids, centroids)\n",
    "\n",
    "\n",
    "    # Function: getLabels\n",
    "    # -------------\n",
    "    # Returns the label for each point in the dataSet. The label is the one of the closest centroid\n",
    "    def getLabels(self, dataSet, centroids):\n",
    "        numPoints, _ = dataSet.shape\n",
    "        labels = np.zeros(numPoints)\n",
    "\n",
    "        for i in range(numPoints) : \n",
    "            labels[i] = np.argmin([getDistance(dataSet[i], c) for c in centroids])\n",
    "\n",
    "        return labels\n",
    "\n",
    "\n",
    "    # Function: getCentroids\n",
    "    # -------------\n",
    "    # Returns the centroids of the clusters. Each centroid is the geometric mean of the points that\n",
    "    # have that centroid's label. Important: If a centroid is empty (no points have\n",
    "    # that centroid's label) you should randomly re-initialize it.\n",
    "    def getCentroids(self, dataSet, labels, k):\n",
    "        newCentroids = []\n",
    "        uniqueCentroids = np.unique(labels)\n",
    "\n",
    "        for c in uniqueCentroids:\n",
    "            indexs = np.where(labels == c)\n",
    "            newCentroid = np.mean([dataSet[i] for i in indexs], axis=1)\n",
    "            newCentroids.append(newCentroid[0])\n",
    "\n",
    "        resulted_k = len(newCentroids)\n",
    "        if (resulted_k < k):\n",
    "            numPoints, _ = dataSet.shape\n",
    "            np.append(newCentroids, dataSet[np.random.randint(numPoints, size =  k - resulted_k), :])\n",
    "\n",
    "        return np.array(newCentroids)\n",
    "\n",
    "\n",
    "    # Function: fit\n",
    "    # -------------\n",
    "    # Runs KMeans clustering\n",
    "    def fit(self, dataSet, k, MAX_ITERATIONS=5, UNTIL_CONV=False):\n",
    "\n",
    "        centroids = self.getRandomCentroids(dataSet, k)\n",
    "        iterations = 0\n",
    "        oldCentroids = None\n",
    "\n",
    "        while not self.shouldStop(oldCentroids, centroids, iterations, MAX_ITERATIONS, UNTIL_CONV):\n",
    "            oldCentroids = centroids\n",
    "            iterations += 1\n",
    "            labels = getLabels(dataSet, centroids)\n",
    "            centroids = getCentroids(dataSet, labels, k)\n",
    "        \n",
    "        self.centroids = centroids\n",
    "        self.labels = labels\n",
    "        return centroids, labels\n",
    "    \n",
    "    def predict(self, x):\n",
    "        min_dis = float('inf')\n",
    "        for label in range(10):\n",
    "            distance = np.linalg.norm(self.centroids[label] - x)\n",
    "            if distance < min_dis:\n",
    "                min_dis = distance\n",
    "                predicted_label = label\n",
    "        return predicted_label\n",
    "    \n",
    "    def evaluate_accuracy(self, x, y, centroids_labels, ISTEST=False):\n",
    "        total_acc = 0\n",
    "        for digit in range(10):\n",
    "            tab = np.zeros(len(self.centroids))\n",
    "            for i in range(y.size):\n",
    "                if(y[i] == digit):\n",
    "                    if (ISTEST):\n",
    "                        tab[centroids_labels[self.predict(x[i])]] += 1\n",
    "                    else:\n",
    "                        tab[centroids_labels[int(self.labels[i])]] += 1\n",
    "            digit_acc = max(tab) / sum(tab) * 100.0\n",
    "            total_acc += digit_acc\n",
    "        print(\"KMeans Accuracy \" + str(total_acc / 10))"
   ]
  },
  {
   "cell_type": "markdown",
   "metadata": {
    "id": "LgDZhqvxgKQu"
   },
   "source": [
    "## Question 3\n",
    "\n",
    "Analyse the results"
   ]
  },
  {
   "cell_type": "code",
   "execution_count": 210,
   "metadata": {
    "id": "aofDIwURgKQv"
   },
   "outputs": [],
   "source": [
    "KM = Kmeans()\n",
    "centroids, labels = KM.fit(x_train_t, 10, UNTIL_CONV=True)"
   ]
  },
  {
   "cell_type": "code",
   "execution_count": 218,
   "metadata": {},
   "outputs": [],
   "source": [
    "def show_centroids(centroids):\n",
    "    for i in range(len(centroids)):\n",
    "        result_imag = centroids[i].T.reshape((28, 28, 1, -1))\n",
    "        MNISTtools.show(result_imag[:, :, 0, 0])"
   ]
  },
  {
   "cell_type": "code",
   "execution_count": 212,
   "metadata": {},
   "outputs": [],
   "source": [
    "def pourcentage_train_tab(x_train, y_train, centroids, labels, SHOW=True):\n",
    "    tab = np.zeros((len(centroids), len(centroids)))\n",
    "    for i in range(y_train.size):\n",
    "        tab[y_train[i], int(labels[i])] += 1\n",
    "    row_sums = tab.sum(axis=1)\n",
    "    row_max_ind = tab.argmax(axis=0)\n",
    "    tab = tab / row_sums[:np.newaxis] * 100\n",
    "    row_sums = tab.sum(axis=1)\n",
    "    if (SHOW):\n",
    "        plt.imshow(tab)\n",
    "        plt.colorbar()\n",
    "    return row_max_ind"
   ]
  },
  {
   "cell_type": "code",
   "execution_count": 213,
   "metadata": {},
   "outputs": [],
   "source": [
    "def pourcentage_test_tab(x_test, y_test, KM_instance, centroids, SHOW=True):\n",
    "    labels = np.array([KM_instance.predict(x) for x in x_test])\n",
    "    tab = np.zeros((len(centroids), len(centroids)))\n",
    "    for i in range(y_test.size):\n",
    "        tab[y_test[i], int(labels[i])] += 1\n",
    "    row_sums = tab.sum(axis=1)\n",
    "    row_max_ind = tab.argmax(axis=0)\n",
    "    tab = tab / row_sums[:np.newaxis] * 100\n",
    "    row_sums = tab.sum(axis=1)\n",
    "    if (SHOW):\n",
    "        plt.imshow(tab)\n",
    "        plt.colorbar()\n",
    "    return row_max_ind"
   ]
  },
  {
   "cell_type": "code",
   "execution_count": 219,
   "metadata": {},
   "outputs": [
    {
     "data": {
      "image/png": "[encoded data removed]",
      "text/plain": [
       "<Figure size 432x288 with 1 Axes>"
      ]
     },
     "metadata": {
      "needs_background": "light"
     },
     "output_type": "display_data"
    },
    {
     "data": {
      "image/png": "[encoded data removed]",
      "text/plain": [
       "<Figure size 432x288 with 1 Axes>"
      ]
     },
     "metadata": {
      "needs_background": "light"
     },
     "output_type": "display_data"
    },
    {
     "data": {
      "image/png": "[encoded data removed]",
      "text/plain": [
       "<Figure size 432x288 with 1 Axes>"
      ]
     },
     "metadata": {
      "needs_background": "light"
     },
     "output_type": "display_data"
    },
    {
     "data": {
      "image/png": "[encoded data removed]",
      "text/plain": [
       "<Figure size 432x288 with 1 Axes>"
      ]
     },
     "metadata": {
      "needs_background": "light"
     },
     "output_type": "display_data"
    },
    {
     "data": {
      "image/png": "[encoded data removed]",
      "text/plain": [
       "<Figure size 432x288 with 1 Axes>"
      ]
     },
     "metadata": {
      "needs_background": "light"
     },
     "output_type": "display_data"
    },
    {
     "data": {
      "image/png": "[encoded data removed]",
      "text/plain": [
       "<Figure size 432x288 with 1 Axes>"
      ]
     },
     "metadata": {
      "needs_background": "light"
     },
     "output_type": "display_data"
    },
    {
     "data": {
      "image/png": "[encoded data removed]",
      "text/plain": [
       "<Figure size 432x288 with 1 Axes>"
      ]
     },
     "metadata": {
      "needs_background": "light"
     },
     "output_type": "display_data"
    },
    {
     "data": {
      "image/png": "[encoded data removed]",
      "text/plain": [
       "<Figure size 432x288 with 1 Axes>"
      ]
     },
     "metadata": {
      "needs_background": "light"
     },
     "output_type": "display_data"
    },
    {
     "data": {
      "image/png": "[encoded data removed]",
      "text/plain": [
       "<Figure size 432x288 with 1 Axes>"
      ]
     },
     "metadata": {
      "needs_background": "light"
     },
     "output_type": "display_data"
    },
    {
     "data": {
      "image/png": "[encoded data removed]",
      "text/plain": [
       "<Figure size 432x288 with 1 Axes>"
      ]
     },
     "metadata": {
      "needs_background": "light"
     },
     "output_type": "display_data"
    }
   ],
   "source": [
    "show_centroids(centroids)"
   ]
  },
  {
   "cell_type": "code",
   "execution_count": 214,
   "metadata": {},
   "outputs": [
    {
     "name": "stdout",
     "output_type": "stream",
     "text": [
      "[3 9 1 7 6 0 8 4 0 1]\n"
     ]
    },
    {
     "data": {
      "image/png": "[encoded data removed]",
      "text/plain": [
       "<Figure size 432x288 with 2 Axes>"
      ]
     },
     "metadata": {
      "needs_background": "light"
     },
     "output_type": "display_data"
    }
   ],
   "source": [
    "centroids_labels = pourcentage_train_tab(x_train, y_train, centroids, labels)\n",
    "print(centroids_labels)"
   ]
  },
  {
   "cell_type": "code",
   "execution_count": 215,
   "metadata": {},
   "outputs": [
    {
     "name": "stdout",
     "output_type": "stream",
     "text": [
      "[3 4 1 7 6 0 8 4 0 1]\n"
     ]
    },
    {
     "data": {
      "image/png": "[encoded data removed]",
      "text/plain": [
       "<Figure size 432x288 with 2 Axes>"
      ]
     },
     "metadata": {
      "needs_background": "light"
     },
     "output_type": "display_data"
    }
   ],
   "source": [
    "test_centroids_labels = pourcentage_test_tab(x_test_t, y_test, KM, centroids)\n",
    "print(test_centroids_labels)"
   ]
  },
  {
   "cell_type": "code",
   "execution_count": 216,
   "metadata": {},
   "outputs": [
    {
     "name": "stdout",
     "output_type": "stream",
     "text": [
      "KMeans Accuracy 65.16312114653849\n",
      "KMeans Accuracy 65.25442596562526\n"
     ]
    }
   ],
   "source": [
    "KM.evaluate_accuracy(x_train_t, y_train, centroids_labels)\n",
    "KM.evaluate_accuracy(x_test_t, y_test, centroids_labels, True)"
   ]
  },
  {
   "cell_type": "markdown",
   "metadata": {
    "id": "gmd8cz3bgKQv"
   },
   "source": [
    "*COMPLETE*"
   ]
  },
  {
   "cell_type": "markdown",
   "metadata": {
    "id": "OYoXyKrJgKQ3"
   },
   "source": [
    "# PART 2 - Naive Bayes\n",
    "Apply Naive Bayes classification to the digits classification problem. Train the model on the training dataset and evaluate on the testing set. Analyse your results"
   ]
  },
  {
   "cell_type": "markdown",
   "metadata": {
    "id": "1JSxEiE0gKQ4"
   },
   "source": [
    "## Question 4\n",
    "\n",
    "Implement Naive Bayes. Add comments to your code as necessary to make it more explicit"
   ]
  },
  {
   "cell_type": "code",
   "execution_count": null,
   "metadata": {
    "id": "-SAl-m_6gKQ4"
   },
   "outputs": [],
   "source": [
    "# COMPLETE"
   ]
  },
  {
   "cell_type": "markdown",
   "metadata": {
    "id": "AXrTKTwngKQ5"
   },
   "source": [
    "## Question 5\n",
    "\n",
    "Analyse the results obtained on the testing dataset "
   ]
  },
  {
   "cell_type": "code",
   "execution_count": null,
   "metadata": {
    "id": "Wg7ADXH3gKQ5"
   },
   "outputs": [],
   "source": [
    "# COMPLETE"
   ]
  },
  {
   "cell_type": "markdown",
   "metadata": {
    "id": "8ru0H4J3gKQ5"
   },
   "source": [
    "*COMPLETE*"
   ]
  },
  {
   "cell_type": "markdown",
   "metadata": {
    "id": "y8r1K-jzgKQ5"
   },
   "source": [
    "# PART 3 - SVM\n",
    "Apply SVM classification with linear and polynomial/gaussian kernels to the digits classification problem. Train the models on the training dataset and evaluate on the testing set. Analyse your results"
   ]
  },
  {
   "cell_type": "markdown",
   "metadata": {
    "id": "sRzgtFdfgKQ6"
   },
   "source": [
    "## Question 6\n",
    "\n",
    "Implement SVM classification with linear and polynomial/gaussian kernels. Add comments to your code as necessary to make it more explicit"
   ]
  },
  {
   "cell_type": "code",
   "execution_count": null,
   "metadata": {
    "id": "k5DFz4pugKQ6"
   },
   "outputs": [],
   "source": [
    "# COMPLETE"
   ]
  },
  {
   "cell_type": "markdown",
   "metadata": {
    "id": "o5tIogXPgKQ7"
   },
   "source": [
    "## Question 7\n",
    "\n",
    "Analyse the results obtained on the testing dataset"
   ]
  },
  {
   "cell_type": "code",
   "execution_count": null,
   "metadata": {
    "id": "gH4KGvdTgKQ7"
   },
   "outputs": [],
   "source": [
    "# COMPLETE"
   ]
  },
  {
   "cell_type": "markdown",
   "metadata": {
    "id": "li6QJYMygKQ-"
   },
   "source": [
    "*COMPLETE*"
   ]
  },
  {
   "cell_type": "markdown",
   "metadata": {
    "id": "ntPQCt3ggKQ-"
   },
   "source": [
    "# PART 4 - CNNs\n",
    "\n",
    "CNNs are specific artificial neural networks composed of *convolutional* layers, *maxpooling* operations, and\n",
    "*fully connected* layers.\n",
    "- Convolutional layers are like typical layers where the weight matrix has a specific structure that is relevant for signals and images.  \n",
    "They take as input $N$ images and produce as output $C$ images (called *feature maps* or *channels*).   \n",
    "They are parameterized by a collection of coeficients that defines a filter bank. Each filter performs a weighted average of its inputs within local sliding windows of size $K \\times K$  (pixels) where $K$ is a hyperparameter (a small odd number: 3, 5, 7, 9).  \n",
    "As for classical layers in neural networks, each feature map is next processed by an activation function such as  ReLU.  \n",
    "    \n",
    "- Maxpooling operations reduce the dimensions of the feature maps by picking the maximum value within local but non-overlapping sliding windows of size $L \\times L$ (pixels) where $L$ is another hyper-parameter (usually 2). Maxpooling does not introduce new parameters to be learned.  \n",
    "  \n",
    "- Fully connected layers are standard layers where the weight matrix does not have a specific structure: each of the $N$ output units is connected to each of the $M$ input units."
   ]
  },
  {
   "cell_type": "markdown",
   "metadata": {
    "id": "vox_yqZrgKQ_"
   },
   "source": [
    "## Question 8\n",
    "\n",
    "PyTorch expects that the input of a convolutional layer is stored in the following format:\n",
    "  $$\n",
    "  \\texttt{Batch size} \\times \\texttt{Number of input channels} \\times \\texttt{Image height} \\times \\texttt{Image width}\n",
    "  $$\n",
    "  \n",
    "The number of input channels in our case is 1 because MNIST is composed of grayscale images. It would have been 3 if the images were in RGB color.\n",
    "In deeper layers, the number of input channels will be the number of feature maps coming from the previous layer.\n",
    "\n",
    "Reorganise the tensors `x_train_im` and `x_test_im` accordingly.\n",
    "Hint:\n",
    "  Reshape them first with shape $\\texttt{(28, 28, 1, 60000)}$ and $\\texttt{(28, 28, 1, 10000)}$\n",
    "  respectively and then use `np.moveaxis`."
   ]
  },
  {
   "cell_type": "code",
   "execution_count": 8,
   "metadata": {
    "executionInfo": {
     "elapsed": 424,
     "status": "ok",
     "timestamp": 1619273946297,
     "user": {
      "displayName": "sohaib errabii",
      "photoUrl": "",
      "userId": "02539498648735437705"
     },
     "user_tz": -120
    },
    "id": "N6kJCKDfgKQ_"
   },
   "outputs": [],
   "source": [
    "x_train_im = np.moveaxis(x_train_im, [0, 1, 2], [-1, -2, -3])\n",
    "x_test_im = np.moveaxis(x_test_im, [0, 1, 2], [-1, -2, -3])"
   ]
  },
  {
   "cell_type": "markdown",
   "metadata": {
    "id": "N53lhKmJgKQ_"
   },
   "source": [
    "Let us also normalize MNIST testing and training data."
   ]
  },
  {
   "cell_type": "code",
   "execution_count": 9,
   "metadata": {
    "executionInfo": {
     "elapsed": 404,
     "status": "ok",
     "timestamp": 1619273947939,
     "user": {
      "displayName": "sohaib errabii",
      "photoUrl": "",
      "userId": "02539498648735437705"
     },
     "user_tz": -120
    },
    "id": "-Ef3SYpfgKRA"
   },
   "outputs": [],
   "source": [
    "def normalize_MNIST_images(x):\n",
    "    return 2 * x.astype(np.float32) / 255. - 1\n",
    "x_train_im = normalize_MNIST_images(x_train_im)\n",
    "x_test_im = normalize_MNIST_images(x_test_im)"
   ]
  },
  {
   "cell_type": "markdown",
   "metadata": {
    "id": "iScapAj6gKRA"
   },
   "source": [
    "and finally wrap all the data into torch Tensors"
   ]
  },
  {
   "cell_type": "code",
   "execution_count": 10,
   "metadata": {
    "executionInfo": {
     "elapsed": 404,
     "status": "ok",
     "timestamp": 1619273951881,
     "user": {
      "displayName": "sohaib errabii",
      "photoUrl": "",
      "userId": "02539498648735437705"
     },
     "user_tz": -120
    },
    "id": "Bnw9XmTTgKRA"
   },
   "outputs": [],
   "source": [
    "x_train_torch = torch.from_numpy(x_train_im)\n",
    "y_train_torch = torch.from_numpy(y_train)\n",
    "x_test_torch = torch.from_numpy(x_test_im)\n",
    "y_test_torch = torch.from_numpy(y_test)"
   ]
  },
  {
   "cell_type": "markdown",
   "metadata": {
    "id": "Tc0O16lIgKRA"
   },
   "source": [
    "## Question 9\n",
    "\n",
    "Neural networks can be constructed using the `torch.nn` package, which relies on `autograd` differentiation tools.\n",
    "This package provides an implementation of CNNs as follows:\n",
    "\n",
    "* Convolutional layers can be created as `nn.Conv2d(N, C, K)`.\n",
    "  For input images of size $W \\times H$, without padding the output feature maps have size $[W-K+1] \\times [H-K+1]$.\n",
    "* In PyTorch, maxpooling is implemented like any other non-linear function (such as\n",
    "  `ReLU` or `softmax`).\n",
    "  For input images of size $W \\times H$, the output feature maps\n",
    "  have size $\\lceil W/L \\rceil \\times \\lceil H/L \\rceil$.\n",
    "* A fully connected layer can be created as `nn.Linear(M, N)`.\n",
    "\n",
    "Our LeNet network will be composed successively of\n",
    "   1. a convolutional layer (i) connecting the input image to 6\n",
    "    feature maps with $5 \\times 5$ convolutions ($K = 5$) and followed\n",
    "    by ReLU and maxpooling (ii) ($L=2$),\n",
    "   2. a convolutional layer (iii) connecting the 6 input channels to 16\n",
    "    output channels with $5 \\times 5$ convolutions and followed\n",
    "    by ReLU and maxpooling (iv) ($L=2$),\n",
    "   3. a fully-connected layer connecting $16$ feature maps\n",
    "    to $120$ output units and followed by ReLU,\n",
    "   4. a fully-connected layer connecting $120$ inputs\n",
    "    to $84$ output units and followed by ReLU,\n",
    "   5. a final linear layer connecting $84$ inputs\n",
    "    to $10$ linear outputs (one for each of our digits).\n",
    "\n",
    "Determine the size of the feature maps after each convolution and maxpooling operation i.e. at points (i)-(iv) processing steps. "
   ]
  },
  {
   "cell_type": "markdown",
   "metadata": {
    "id": "891rKqhKgKRB"
   },
   "source": [
    "Lets consider one sample of size $28 \\times 28$.\n",
    "\n",
    "$(i)$ Applying $6$ filters of size $5 \\times 5$ with no padding and a stride of one would give us $6$ feature maps of size $24 \\times 24$ (taking into account the bias, this corresponds to $156$ parameters). \n",
    "\n",
    "$(ii)$ Following the maxpooling, each of the 6 feature maps will be reduced to $12 \\times 12$.\n",
    "\n",
    "$(iii)$ Considering a stride of one and no padding, we will obtain $16$ feature map each of size $8 \\times 8$ (this layer has $416$ parameters).\n",
    "\n",
    "$(iv)$ Following the maxpooling, each of the 16 feature maps will be reduced to $4 \\times 4$."
   ]
  },
  {
   "cell_type": "markdown",
   "metadata": {
    "id": "Ztn4dK-tgKRB"
   },
   "source": [
    "## Question 10\n",
    "\n",
    "Analyse and complete the following code initializing our LeNet network. \n",
    "\n",
    "Note that you just have to define the forward function, and the backward function (where gradients are computed) will be automatically defined for you using `autograd`.\n",
    "You can use any of the Torch tensor operations in the forward function.\n",
    "For more details, please refer to https://pytorch.org/docs/stable/nn.html"
   ]
  },
  {
   "cell_type": "code",
   "execution_count": 11,
   "metadata": {
    "colab": {
     "base_uri": "https://localhost:8080/"
    },
    "executionInfo": {
     "elapsed": 723,
     "status": "ok",
     "timestamp": 1619273956500,
     "user": {
      "displayName": "sohaib errabii",
      "photoUrl": "",
      "userId": "02539498648735437705"
     },
     "user_tz": -120
    },
    "id": "n4NF4TmmgKRC",
    "outputId": "67076d31-0db7-4edb-d474-327319ff7cc3"
   },
   "outputs": [
    {
     "name": "stdout",
     "output_type": "stream",
     "text": [
      "LeNet(\n",
      "  (conv1): Conv2d(1, 6, kernel_size=(5, 5), stride=(1, 1))\n",
      "  (conv2): Conv2d(6, 16, kernel_size=(5, 5), stride=(1, 1))\n",
      "  (fc1): Linear(in_features=256, out_features=120, bias=True)\n",
      "  (fc2): Linear(in_features=120, out_features=84, bias=True)\n",
      "  (fc3): Linear(in_features=84, out_features=10, bias=True)\n",
      ")\n"
     ]
    }
   ],
   "source": [
    "# The neural networks class\n",
    "class LeNet(nn.Module):\n",
    "\n",
    "    # define our network structure\n",
    "    def __init__(self):\n",
    "        super(LeNet, self).__init__()\n",
    "        self.conv1 = nn.Conv2d(1, 6 , 5)\n",
    "        self.conv2 = nn.Conv2d(6, 16, 5)\n",
    "        self.fc1 = nn.Linear(256, 120)\n",
    "        self.fc2 = nn.Linear(120, 84)\n",
    "        self.fc3 = nn.Linear(84, 10)\n",
    "\n",
    "    # define one forward pass through the network\n",
    "    def forward(self, x):\n",
    "        x = F.max_pool2d(F.relu(self.conv1(x)), (2, 2))\n",
    "        x = F.max_pool2d(F.relu(self.conv2(x)), (2, 2))\n",
    "        x = x.view(-1, self.num_flat_features(x))\n",
    "        x = F.relu(self.fc1(x))\n",
    "        x = F.relu(self.fc2(x))\n",
    "        x = self.fc3(x)\n",
    "        return x\n",
    "    \n",
    "    # helper function to understand the dimensions\n",
    "    def num_flat_features(self, x):\n",
    "        size = x.size()[1:] # all dimensions except the batch dimension\n",
    "        return np.prod(size)\n",
    "\n",
    "net = LeNet()\n",
    "print(net)"
   ]
  },
  {
   "cell_type": "markdown",
   "metadata": {
    "id": "Lg6WJmOwgKRC"
   },
   "source": [
    "## Question 11\n",
    "\n",
    "Run the following and interpret the results. What are the learnable parameters?  Are gradients going to be tracked for all parameters?"
   ]
  },
  {
   "cell_type": "code",
   "execution_count": 12,
   "metadata": {
    "colab": {
     "base_uri": "https://localhost:8080/"
    },
    "executionInfo": {
     "elapsed": 439,
     "status": "ok",
     "timestamp": 1619273959188,
     "user": {
      "displayName": "sohaib errabii",
      "photoUrl": "",
      "userId": "02539498648735437705"
     },
     "user_tz": -120
    },
    "id": "S74cB355gKRC",
    "outputId": "53afe924-a5c2-4aa3-e7e4-2c1a61a5c7ac"
   },
   "outputs": [
    {
     "name": "stdout",
     "output_type": "stream",
     "text": [
      "conv1.weight torch.Size([6, 1, 5, 5]) True\n",
      "conv1.bias torch.Size([6]) True\n",
      "conv2.weight torch.Size([16, 6, 5, 5]) True\n",
      "conv2.bias torch.Size([16]) True\n",
      "fc1.weight torch.Size([120, 256]) True\n",
      "fc1.bias torch.Size([120]) True\n",
      "fc2.weight torch.Size([84, 120]) True\n",
      "fc2.bias torch.Size([84]) True\n",
      "fc3.weight torch.Size([10, 84]) True\n",
      "fc3.bias torch.Size([10]) True\n"
     ]
    }
   ],
   "source": [
    "for name, param in net.named_parameters():\n",
    "    print(name, param.size(), param.requires_grad)  "
   ]
  },
  {
   "cell_type": "markdown",
   "metadata": {
    "id": "yK6vl-2RgKRD"
   },
   "source": [
    "This shows that the learnable parameters (weights and biases) of each layer.\n",
    "\n",
    "We can see that the gradients are going to be tracked for all parameters (**todo** elaborate here on why that is necessary for backprop).\n",
    "\n",
    "**Remark:** Although the size of the weight tensor in the second convolutional layer is $16\\times 6\\times 5\\times 5$ the real number of parameters is only $16\\times 5\\times 5$ because the $5\\times 5$ filters are broadcasted to $5\\times 5\\times 6$."
   ]
  },
  {
   "cell_type": "markdown",
   "metadata": {
    "id": "Kyg38PbZgKRD"
   },
   "source": [
    "### Running a foward pass\n",
    "\n",
    "To run a forward pass of your initial network over your testing set, simply run the following code. \n",
    "\n",
    "Note that `with torch.no_grad()` is used to avoid tracking for\n",
    "gradient during testing and then save some computation time\n",
    "(refer to https://pytorch.org/docs/stable/autograd.html#torch.autograd.no_grad)."
   ]
  },
  {
   "cell_type": "code",
   "execution_count": 13,
   "metadata": {
    "executionInfo": {
     "elapsed": 1333,
     "status": "ok",
     "timestamp": 1619273965150,
     "user": {
      "displayName": "sohaib errabii",
      "photoUrl": "",
      "userId": "02539498648735437705"
     },
     "user_tz": -120
    },
    "id": "UZi-PWXngKRE"
   },
   "outputs": [],
   "source": [
    "with torch.no_grad():\n",
    "    pred = net(x_test_torch) # equivalent to pred = net.forward(x_test_torch)"
   ]
  },
  {
   "cell_type": "markdown",
   "metadata": {
    "id": "4qCzvHtegKRE"
   },
   "source": [
    "## Question 12\n",
    "\n",
    "Run the following and interpret the result"
   ]
  },
  {
   "cell_type": "code",
   "execution_count": 14,
   "metadata": {
    "colab": {
     "base_uri": "https://localhost:8080/"
    },
    "executionInfo": {
     "elapsed": 386,
     "status": "ok",
     "timestamp": 1619273967306,
     "user": {
      "displayName": "sohaib errabii",
      "photoUrl": "",
      "userId": "02539498648735437705"
     },
     "user_tz": -120
    },
    "id": "H7br-w0wgKRF",
    "outputId": "121e4c63-8a69-4bfc-b669-f79759d763c9"
   },
   "outputs": [
    {
     "name": "stdout",
     "output_type": "stream",
     "text": [
      "tensor(10.0500)\n"
     ]
    }
   ],
   "source": [
    "_, pred_labels = pred.max(1)\n",
    "print(100 * (y_test_torch == pred_labels).float().mean())"
   ]
  },
  {
   "cell_type": "markdown",
   "metadata": {
    "id": "ZXzde-BEgKRF"
   },
   "source": [
    "`pred.max(1)` returns the index (between 0 to 9) having the maximum value for each image of the test set. This index can be interpreted as the most likely digit represented by the image.\n",
    "\n",
    "The initial values given to the parameters of the network allowed us to obtain an accuracy of $10.28\\%$. "
   ]
  },
  {
   "cell_type": "markdown",
   "metadata": {
    "id": "Dfamsa-HgKRF"
   },
   "source": [
    "## Question 13\n",
    "\n",
    "We will use (Mini-Batch) Stochastic Gradient Descent (SGD) with momentum, and cross-entropy as the loss.\n",
    "Complete the following function.\n",
    "\n",
    "For more details, refer to\n",
    "https://pytorch.org/docs/stable/nn.html and\n",
    "https://pytorch.org/docs/stable/optim.html.\n",
    "\n",
    "Note that PyTorch's `CrossEntropyLoss` is already the composition of a softmax activation with the standard cross-entropy loss."
   ]
  },
  {
   "cell_type": "code",
   "execution_count": 15,
   "metadata": {
    "executionInfo": {
     "elapsed": 459,
     "status": "ok",
     "timestamp": 1619273974085,
     "user": {
      "displayName": "sohaib errabii",
      "photoUrl": "",
      "userId": "02539498648735437705"
     },
     "user_tz": -120
    },
    "id": "Av-6gslogKRG"
   },
   "outputs": [],
   "source": [
    "# T: number of epochs\n",
    "# B: minibatch size, \n",
    "# gamma: step size,\n",
    "# rho: momentum.\n",
    "def backprop_deep(x_train, y_train, net, T, B=100, gamma=.001, rho=.9):\n",
    "    N = x_train.size()[0]        # Training set size\n",
    "    NB = N // B   # Number of minibatches\n",
    "    criterion = nn.CrossEntropyLoss()\n",
    "    optimizer = torch.optim.SGD(net.parameters(), lr=0.01, momentum=rho)\n",
    "    \n",
    "    loss_values = []\n",
    "    for epoch in range(T):\n",
    "        running_loss = 0.0\n",
    "        shuffled_indices = np.random.permutation(range(N))\n",
    "        for k in range(NB):\n",
    "            # Extract k-th minibatch from xtrain and ltrain\n",
    "            minibatch_indices = shuffled_indices[B*k:min(B*(k+1), N)]\n",
    "            inputs = x_train[minibatch_indices, ...]\n",
    "            labels = y_train[minibatch_indices, ...]\n",
    "\n",
    "            # Initialize the gradients to zero\n",
    "            optimizer.zero_grad()\n",
    "\n",
    "            # Forward propogation\n",
    "            outputs = net(inputs) \n",
    "\n",
    "            # Error evaluation\n",
    "            loss = criterion(outputs, labels)\n",
    "\n",
    "            # Back propogation\n",
    "            loss.backward()\n",
    "\n",
    "            # Optimize step\n",
    "            optimizer.step()\n",
    "\n",
    "            # Compute and print statistics\n",
    "            with torch.no_grad():\n",
    "                running_loss += loss.item()*inputs.size(0)\n",
    "  \n",
    "            \n",
    "        loss_values.append(running_loss/NB)\n",
    "  \n",
    "    plt.plot(loss_values)"
   ]
  },
  {
   "cell_type": "markdown",
   "metadata": {
    "id": "qT_MGIvwgKRG"
   },
   "source": [
    "## Question 14\n",
    "\n",
    "Run the function for 50 epochs, it may take several minutes. The number of epochs has to be adapted to reach convergence as most as possible.\n",
    "The loss per minibatch should decay (it may take some time). Explain the curve."
   ]
  },
  {
   "cell_type": "code",
   "execution_count": 16,
   "metadata": {
    "colab": {
     "base_uri": "https://localhost:8080/",
     "height": 265
    },
    "executionInfo": {
     "elapsed": 54734,
     "status": "ok",
     "timestamp": 1619274031759,
     "user": {
      "displayName": "sohaib errabii",
      "photoUrl": "",
      "userId": "02539498648735437705"
     },
     "user_tz": -120
    },
    "id": "MPJ6trIOgKRG",
    "outputId": "751fe2fe-54dc-4f50-9885-36300649793f"
   },
   "outputs": [
    {
     "data": {
      "image/png": "[encoded data removed]",
      "text/plain": [
       "<Figure size 432x288 with 1 Axes>"
      ]
     },
     "metadata": {
      "needs_background": "light",
      "tags": []
     },
     "output_type": "display_data"
    }
   ],
   "source": [
    "backprop_deep(x_train_torch, y_train_torch, net, T=50)"
   ]
  },
  {
   "cell_type": "markdown",
   "metadata": {
    "id": "HH9qxzO2gKRG"
   },
   "source": [
    "*COMPLETE*"
   ]
  },
  {
   "cell_type": "markdown",
   "metadata": {
    "id": "_Ctq0chogKRG"
   },
   "source": [
    "## Question 15 - Optional\n",
    "\n",
    "If you have a GPU, experiment the following and analyze the results"
   ]
  },
  {
   "cell_type": "code",
   "execution_count": null,
   "metadata": {
    "id": "5toU_zUxgKRH"
   },
   "outputs": [],
   "source": [
    "import time\n",
    "device = 'cuda' if torch.cuda.is_available() else 'cpu'\n",
    "if device is not 'cpu':\n",
    "    net = LeNet().to(device)\n",
    "    xtrain = xtrain.to(device)\n",
    "    ltrain = ltrain.to(device)\n",
    "    t = time.time()\n",
    "    backprop_deep(xtrain, ltrain, net, T=50)\n",
    "    print(time.time() - t)\n",
    "    net = net.to('cpu')\n",
    "    xtrain_torch = xtrain_torch.to('cpu')\n",
    "    ltrain_torch = ltrain_torch.to('cpu')\n",
    "else:\n",
    "    print('Sorry no GPU')  "
   ]
  },
  {
   "cell_type": "markdown",
   "metadata": {
    "id": "YHvzT4-EgKRH"
   },
   "source": [
    "## Question 16\n",
    "\n",
    "Analyse the results obtained by applying the network to the testing dataset. "
   ]
  },
  {
   "cell_type": "code",
   "execution_count": 18,
   "metadata": {
    "colab": {
     "base_uri": "https://localhost:8080/"
    },
    "executionInfo": {
     "elapsed": 1315,
     "status": "ok",
     "timestamp": 1619274063849,
     "user": {
      "displayName": "sohaib errabii",
      "photoUrl": "",
      "userId": "02539498648735437705"
     },
     "user_tz": -120
    },
    "id": "CZab9pbdgKRI",
    "outputId": "dbd64265-a7cb-4a70-8434-6dceb317215f"
   },
   "outputs": [
    {
     "name": "stdout",
     "output_type": "stream",
     "text": [
      "Accuracy: tensor(97.2400)\n"
     ]
    }
   ],
   "source": [
    "pred = net(x_test_torch)\n",
    "_, pred_labels = pred.max(1)\n",
    "print(\"Accuracy: \" + str(100 * (y_test_torch == pred_labels).float().mean()))"
   ]
  },
  {
   "cell_type": "markdown",
   "metadata": {
    "id": "3Wo0nlz6gKRI"
   },
   "source": [
    "*COMPLETE*"
   ]
  },
  {
   "cell_type": "markdown",
   "metadata": {
    "id": "-rleGvPRgKRI"
   },
   "source": [
    "# PART 5 - Comparison and conclusion"
   ]
  },
  {
   "cell_type": "markdown",
   "metadata": {
    "id": "86BkRiAcgKRI"
   },
   "source": [
    "## Question 9\n",
    "\n",
    "Compare all results and conclude\n"
   ]
  },
  {
   "cell_type": "code",
   "execution_count": null,
   "metadata": {
    "id": "Squ7PAbxgKRJ"
   },
   "outputs": [],
   "source": []
  },
  {
   "cell_type": "markdown",
   "metadata": {
    "id": "rUWKDi3ygKRK"
   },
   "source": [
    "*COMPLETE*"
   ]
  }
 ],
 "metadata": {
  "colab": {
   "collapsed_sections": [
    "35VZ2RmIgKQt",
    "LgDZhqvxgKQu",
    "1JSxEiE0gKQ4",
    "AXrTKTwngKQ5",
    "sRzgtFdfgKQ6",
    "o5tIogXPgKQ7"
   ],
   "name": "Assignment1-MNIST.ipynb",
   "provenance": []
  },
  "kernelspec": {
   "display_name": "Python 3",
   "language": "python",
   "name": "python3"
  },
  "language_info": {
   "codemirror_mode": {
    "name": "ipython",
    "version": 3
   },
   "file_extension": ".py",
   "mimetype": "text/x-python",
   "name": "python",
   "nbconvert_exporter": "python",
   "pygments_lexer": "ipython3",
   "version": "3.8.5"
  },
  "latex_envs": {
   "LaTeX_envs_menu_present": true,
   "autoclose": false,
   "autocomplete": true,
   "bibliofile": "biblio.bib",
   "cite_by": "apalike",
   "current_citInitial": 1,
   "eqLabelWithNumbers": true,
   "eqNumInitial": 1,
   "hotkeys": {
    "equation": "Ctrl-E",
    "itemize": "Ctrl-I"
   },
   "labels_anchors": false,
   "latex_user_defs": false,
   "report_style_numbering": false,
   "user_envs_cfg": false
  }
 },
 "nbformat": 4,
 "nbformat_minor": 1
}
