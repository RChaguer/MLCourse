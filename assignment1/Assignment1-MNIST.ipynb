{
 "cells": [
  {
   "cell_type": "markdown",
   "metadata": {
    "id": "pNnJICs0gKQW",
    "pycharm": {
     "name": "#%% md\n"
    }
   },
   "source": [
    "Binôme: Sohaib Errabii, Reda Chaguer\n",
    "\n",
    "# IF240 - Apprentissage et deep learning\n",
    "\n",
    "## Assignment 1: K-Means, Naive Bayes, SVMs and CNNs"
   ]
  },
  {
   "cell_type": "markdown",
   "metadata": {
    "id": "VywMttxcgKQe"
   },
   "source": [
    "### Objectives \n",
    "\n",
    "The objective of this assignment is to apply different classification algorithms for the application of handwritten digits recognition."
   ]
  },
  {
   "cell_type": "markdown",
   "metadata": {
    "id": "L0h5f98RgKQf"
   },
   "source": [
    "# PART 0 - Preparing the dataset"
   ]
  },
  {
   "cell_type": "markdown",
   "metadata": {
    "id": "TTizhf3_gKQh"
   },
   "source": [
    "In this practice, you will experiment with the well-known MNIST dataset"
   ]
  },
  {
   "cell_type": "code",
   "execution_count": 62,
   "metadata": {
    "executionInfo": {
     "elapsed": 4116,
     "status": "ok",
     "timestamp": 1619273749874,
     "user": {
      "displayName": "sohaib errabii",
      "photoUrl": "",
      "userId": "02539498648735437705"
     },
     "user_tz": -120
    },
    "id": "2EQ1DB_KgKQi"
   },
   "outputs": [],
   "source": [
    "import numpy as np\n",
    "import torch\n",
    "import matplotlib.pyplot as plt\n",
    "import torch.nn as nn\n",
    "import torch.nn.functional as F\n",
    "import MNISTtools"
   ]
  },
  {
   "cell_type": "markdown",
   "metadata": {
    "id": "P3pJZEgKgKQj"
   },
   "source": [
    "Let us first load and normalize MNIST testing and training data. This dataset is made of 60000 grayscale images of size 28$\\times$28"
   ]
  },
  {
   "cell_type": "code",
   "execution_count": 2,
   "metadata": {
    "colab": {
     "base_uri": "https://localhost:8080/"
    },
    "executionInfo": {
     "elapsed": 704,
     "status": "ok",
     "timestamp": 1619273928312,
     "user": {
      "displayName": "sohaib errabii",
      "photoUrl": "",
      "userId": "02539498648735437705"
     },
     "user_tz": -120
    },
    "id": "G-4R4pD7gKQk",
    "outputId": "4166b55a-da2a-48e1-dfbf-fe5591444eee"
   },
   "outputs": [],
   "source": [
    "x_train, y_train = MNISTtools.load(dataset='training')\n",
    "x_test, y_test = MNISTtools.load(dataset='testing')"
   ]
  },
  {
   "cell_type": "markdown",
   "metadata": {
    "id": "_r062EHfgKQl"
   },
   "source": [
    "To reduce the computation cost, we only select a small part of $n$ images for further analysis. _You might modify this value later to visualise its influence on the results._"
   ]
  },
  {
   "cell_type": "code",
   "execution_count": 4,
   "metadata": {
    "executionInfo": {
     "elapsed": 432,
     "status": "ok",
     "timestamp": 1619273931383,
     "user": {
      "displayName": "sohaib errabii",
      "photoUrl": "",
      "userId": "02539498648735437705"
     },
     "user_tz": -120
    },
    "id": "5EEV3hIjgKQm"
   },
   "outputs": [],
   "source": [
    "n = 5000\n",
    "x_train = x_train[:,1:n+1]\n",
    "y_train = y_train[1:n+1]"
   ]
  },
  {
   "cell_type": "markdown",
   "metadata": {
    "id": "RVAQGV29gKQm"
   },
   "source": [
    "## Question 1\n",
    "\n",
    "How many training and testing images compose the dataset? What are the dimensions of the data samples?"
   ]
  },
  {
   "cell_type": "markdown",
   "metadata": {},
   "source": [
    "- Training DataSet is composed of n (= 5000) images\n",
    "- Testing DataSet is composed of 10000 images\n",
    "- Each sample is of dimension 784 (vector)"
   ]
  },
  {
   "cell_type": "code",
   "execution_count": 5,
   "metadata": {
    "id": "jekT8Xh3gKQs"
   },
   "outputs": [
    {
     "name": "stdout",
     "output_type": "stream",
     "text": [
      "(784, 5000)\n",
      "(784, 10000)\n"
     ]
    }
   ],
   "source": [
    "print(x_train.shape)\n",
    "print(x_test.shape)"
   ]
  },
  {
   "cell_type": "markdown",
   "metadata": {
    "id": "5q0Ez6SFgKQs"
   },
   "source": [
    "To visualize the images, the vectors must be reshaped to a grayscale square image.  "
   ]
  },
  {
   "cell_type": "code",
   "execution_count": 109,
   "metadata": {
    "colab": {
     "base_uri": "https://localhost:8080/",
     "height": 548
    },
    "executionInfo": {
     "elapsed": 1174,
     "status": "ok",
     "timestamp": 1619273934750,
     "user": {
      "displayName": "sohaib errabii",
      "photoUrl": "",
      "userId": "02539498648735437705"
     },
     "user_tz": -120
    },
    "id": "qkyzwHyjgKQt",
    "outputId": "aafa2eaf-28ef-4cc1-ee99-5eb6206a670d"
   },
   "outputs": [
    {
     "data": {
      "text/plain": "<Figure size 432x288 with 1 Axes>",
      "image/png": "[encoded data removed]"
     },
     "metadata": {},
     "output_type": "display_data"
    },
    {
     "name": "stdout",
     "output_type": "stream",
     "text": [
      "the label of image 200 is 1\n"
     ]
    }
   ],
   "source": [
    "x_test_im = x_test.reshape((28, 28, 1, -1))\n",
    "\n",
    "x_train_im = x_train.reshape((28, 28, 1, -1))\n",
    "\n",
    "# let us show image number 200 and its label\n",
    "MNISTtools.show(x_train_im[:, :, 0, 200])\n",
    "print(\"the label of image 200 is\", y_train[200])"
   ]
  },
  {
   "cell_type": "markdown",
   "metadata": {
    "id": "_WhVxBiGgKQt"
   },
   "source": [
    "# PART 1 - K-Means\n",
    "\n",
    "In this first part you must group the testing set into 10 clusters using the K-Means algorithm. \n",
    "You must observe the clustering result by visualizing as images the computed centroids and by checking if each found cluster corresponds to one label from the ground truth given by `y_test`. In other words, check to which cluster is assigned each data point, as in a classification problem. Analyse the results. \n",
    "\n",
    "Be careful: the index of the clusters you find (named `pred_labels` here) does not mandatorily correspond to the digit value (initial label `y_test`). One way to find which label corresponds to each cluster is to visualise the centroid image, or to compute the mode of each class in the ground truth, for example using the following code:\n",
    "\n",
    "```\n",
    "from scipy.stats import mode\n",
    "real_pred_labels = np.zeros_like(pred_labels)\n",
    "real_pred_centers = np.zeros_like(pred_centers)\n",
    "for i in range(10):\n",
    "    indices = np.where(pred_labels == i)[0]\n",
    "    real_value = mode(y_test[indices])[0]\n",
    "    real_pred_labels[indices] = real_value\n",
    "    real_pred_centers[real_value] = pred_centers[i]\n",
    "```"
   ]
  },
  {
   "cell_type": "code",
   "execution_count": 52,
   "metadata": {
    "executionInfo": {
     "elapsed": 422,
     "status": "ok",
     "timestamp": 1619273940055,
     "user": {
      "displayName": "sohaib errabii",
      "photoUrl": "",
      "userId": "02539498648735437705"
     },
     "user_tz": -120
    },
    "id": "jOegnQAfgKQt"
   },
   "outputs": [],
   "source": [
    "# Transpose data, necessary for K-Means, Naive Bayes and SVM with sklearn\n",
    "x_test_t =  np.transpose(x_test)\n",
    "x_train_t =  np.transpose(x_train)"
   ]
  },
  {
   "cell_type": "markdown",
   "metadata": {
    "id": "35VZ2RmIgKQt"
   },
   "source": [
    "## Question 2\n",
    "\n",
    "Implement K-Means. Add comments to your code as necessary to make it more explicit"
   ]
  },
  {
   "cell_type": "code",
   "execution_count": 53,
   "metadata": {
    "id": "X3gydo4agKQu"
   },
   "outputs": [],
   "source": [
    "class Kmeans(object):\n",
    "    \n",
    "    def __init__(self):\n",
    "        self.centroids = None\n",
    "        self.labels = None\n",
    "        \n",
    "    # Function: getDistance\n",
    "    # -------------\n",
    "    # Returns the distance between two points\n",
    "    def getDistance(self, point1, point2):\n",
    "        return np.linalg.norm(point1-point2)\n",
    "\n",
    "\n",
    "    # Function: getRandomCentroids\n",
    "    # -------------\n",
    "    # Initialize centroids by choosing randomly k points from the dataset\n",
    "    def getRandomCentroids(self, dataSet, numClusters):\n",
    "        numPoints, _ = dataSet.shape\n",
    "        centroids = dataSet[np.random.randint(numPoints, size =  numClusters), :]\n",
    "        return centroids\n",
    "\n",
    "\n",
    "    # Function: shouldStop\n",
    "    # -------------\n",
    "    # Returns True or False if k-means if the maximum number of iterations is reached \n",
    "    # or if the centroids do not change anymore\n",
    "    def shouldStop(self, oldCentroids, centroids, iterations, MAX_ITERATIONS, UNTIL_CONV=False):\n",
    "        if ((not UNTIL_CONV) and iterations > MAX_ITERATIONS): \n",
    "            return True\n",
    "        return np.array_equal(oldCentroids, centroids)\n",
    "\n",
    "\n",
    "    # Function: getLabels\n",
    "    # -------------\n",
    "    # Returns the label for each point in the dataSet. The label is the one of the closest centroid\n",
    "    def getLabels(self, dataSet, centroids):\n",
    "        numPoints, _ = dataSet.shape\n",
    "        labels = np.zeros(numPoints)\n",
    "\n",
    "        for i in range(numPoints) : \n",
    "            labels[i] = np.argmin([self.getDistance(dataSet[i], c) for c in centroids])\n",
    "\n",
    "        return labels\n",
    "\n",
    "\n",
    "    # Function: getCentroids\n",
    "    # -------------\n",
    "    # Returns the centroids of the clusters. Each centroid is the geometric mean of the points that\n",
    "    # have that centroid's label. Important: If a centroid is empty (no points have\n",
    "    # that centroid's label) you should randomly re-initialize it.\n",
    "    def getCentroids(self, dataSet, labels, k):\n",
    "        newCentroids = []\n",
    "        uniqueCentroids = np.unique(labels)\n",
    "\n",
    "        for c in uniqueCentroids:\n",
    "            indexs = np.where(labels == c)\n",
    "            newCentroid = np.mean([dataSet[i] for i in indexs], axis=1)\n",
    "            newCentroids.append(newCentroid[0])\n",
    "\n",
    "        resulted_k = len(newCentroids)\n",
    "        if (resulted_k < k):\n",
    "            numPoints, _ = dataSet.shape\n",
    "            np.append(newCentroids, dataSet[np.random.randint(numPoints, size =  k - resulted_k), :])\n",
    "\n",
    "        return np.array(newCentroids)\n",
    "\n",
    "\n",
    "    # Function: fit\n",
    "    # -------------\n",
    "    # Runs KMeans clustering\n",
    "    def fit(self, dataSet, k, MAX_ITERATIONS=5, UNTIL_CONV=False):\n",
    "\n",
    "        centroids = self.getRandomCentroids(dataSet, k)\n",
    "        iterations = 0\n",
    "        oldCentroids = None\n",
    "\n",
    "        while not self.shouldStop(oldCentroids, centroids, iterations, MAX_ITERATIONS, UNTIL_CONV):\n",
    "            oldCentroids = centroids\n",
    "            iterations += 1\n",
    "            labels = self.getLabels(dataSet, centroids)\n",
    "            centroids = self.getCentroids(dataSet, labels, k)\n",
    "        \n",
    "        self.centroids = centroids\n",
    "        self.labels = labels\n",
    "        return centroids, labels\n",
    "    \n",
    "    def predict(self, x):\n",
    "        min_dis = float('inf')\n",
    "        for label in range(10):\n",
    "            distance = np.linalg.norm(self.centroids[label] - x)\n",
    "            if distance < min_dis:\n",
    "                min_dis = distance\n",
    "                predicted_label = label\n",
    "        return predicted_label\n",
    "    \n",
    "    def evaluate_accuracy(self, x, y, centroids_labels, ISTEST=False):\n",
    "        total_acc = 0\n",
    "        for digit in range(10):\n",
    "            tab = np.zeros(len(self.centroids))\n",
    "            for i in range(y.size):\n",
    "                if(y[i] == digit):\n",
    "                    if (ISTEST):\n",
    "                        tab[centroids_labels[self.predict(x[i])]] += 1\n",
    "                    else:\n",
    "                        tab[centroids_labels[int(self.labels[i])]] += 1\n",
    "            digit_acc = max(tab) / sum(tab) * 100.0\n",
    "            total_acc += digit_acc\n",
    "        total_acc /= 10\n",
    "\n",
    "        print(\"KMeans Accuracy \" + str(total_acc))\n",
    "        return total_acc"
   ]
  },
  {
   "cell_type": "markdown",
   "metadata": {
    "id": "LgDZhqvxgKQu"
   },
   "source": [
    "## Question 3\n",
    "\n",
    "Analyse the results"
   ]
  },
  {
   "cell_type": "markdown",
   "source": [
    "We create an instance of the object `Kmeans` and then we call the method `fit` unti convergence\n",
    "is reached; centroids no longer change.\n",
    "Since we are interested in classifying the images of digits `0-9`, we chose `k = 10`, hoping to associate\n",
    "each cluster with a certain digit.\n",
    "\n",
    "However, the results below show that the obtained clusters are not exactly separated according to the digits.\n",
    "\n",
    "The images of digit `5` in particular are very hard to separate from other digits,\n",
    "although sometimes (as it depends on the initial value of centroids) to obtain a centroid with label `5`. The actual cluster\n",
    "still contains a mix of images of different digits. This is probably due to the fact that the images of digit `5` are rather\n",
    "close (in terms of the distance used) to most of the images (setting a line of pixels can change 5 to 9 or 6 for example).\n",
    "\n",
    "The accuracies obtained in multiple runs range between $60\\%$ to $70\\%$\n",
    "\n",
    "As shown below, we also tried to use various values for the number of clusters $k$.\n",
    "The accuracy obtained seems to fluctuate around $65\\%$."
   ],
   "metadata": {
    "collapsed": false,
    "pycharm": {
     "name": "#%% md\n"
    }
   }
  },
  {
   "cell_type": "code",
   "execution_count": 54,
   "metadata": {
    "id": "aofDIwURgKQv"
   },
   "outputs": [],
   "source": [
    "KM = Kmeans()\n",
    "centroids, labels = KM.fit(x_train_t, 10, UNTIL_CONV=True)"
   ]
  },
  {
   "cell_type": "code",
   "execution_count": 46,
   "metadata": {},
   "outputs": [],
   "source": [
    "def show_centroids(centroids):\n",
    "    for i in range(len(centroids)):\n",
    "        result_imag = centroids[i].T.reshape((28, 28, 1, -1))\n",
    "        MNISTtools.show(result_imag[:, :, 0, 0])"
   ]
  },
  {
   "cell_type": "code",
   "execution_count": 47,
   "outputs": [],
   "source": [
    "def pourcentage_train_tab(x_train, y_train, centroids, labels, SHOW=True):\n",
    "    tab = np.zeros((len(centroids), len(centroids)))\n",
    "    for i in range(y_train.size):\n",
    "        tab[y_train[i], int(labels[i])] += 1\n",
    "    row_sums = tab.sum(axis=1)\n",
    "    row_max_ind = tab.argmax(axis=0)\n",
    "    tab = tab / row_sums[:np.newaxis] * 100\n",
    "    row_sums = tab.sum(axis=1)\n",
    "    if (SHOW):\n",
    "        plt.imshow(tab)\n",
    "        plt.colorbar()\n",
    "    return row_max_ind"
   ],
   "metadata": {
    "collapsed": false,
    "pycharm": {
     "name": "#%%\n"
    }
   }
  },
  {
   "cell_type": "code",
   "execution_count": 48,
   "outputs": [],
   "source": [
    "def pourcentage_test_tab(x_test, y_test, KM_instance, centroids, SHOW=True):\n",
    "    labels = np.array([KM_instance.predict(x) for x in x_test])\n",
    "    tab = np.zeros((len(centroids), len(centroids)))\n",
    "    for i in range(y_test.size):\n",
    "        tab[y_test[i], int(labels[i])] += 1\n",
    "    row_sums = tab.sum(axis=1)\n",
    "    row_max_ind = tab.argmax(axis=0)\n",
    "    tab = tab / row_sums[:np.newaxis] * 100\n",
    "    row_sums = tab.sum(axis=1)\n",
    "    if (SHOW):\n",
    "        plt.imshow(tab)\n",
    "        plt.colorbar()\n",
    "    return row_max_ind"
   ],
   "metadata": {
    "collapsed": false,
    "pycharm": {
     "name": "#%%\n"
    }
   }
  },
  {
   "cell_type": "code",
   "execution_count": 55,
   "outputs": [
    {
     "data": {
      "text/plain": "<Figure size 432x288 with 1 Axes>",
      "image/png": "[encoded data removed]"
     },
     "metadata": {
      "needs_background": "light"
     },
     "output_type": "display_data"
    },
    {
     "data": {
      "text/plain": "<Figure size 432x288 with 1 Axes>",
      "image/png": "[encoded data removed]"
     },
     "metadata": {
      "needs_background": "light"
     },
     "output_type": "display_data"
    },
    {
     "data": {
      "text/plain": "<Figure size 432x288 with 1 Axes>",
      "image/png": "[encoded data removed]"
     },
     "metadata": {
      "needs_background": "light"
     },
     "output_type": "display_data"
    },
    {
     "data": {
      "text/plain": "<Figure size 432x288 with 1 Axes>",
      "image/png": "[encoded data removed]"
     },
     "metadata": {
      "needs_background": "light"
     },
     "output_type": "display_data"
    },
    {
     "data": {
      "text/plain": "<Figure size 432x288 with 1 Axes>",
      "image/png": "[encoded data removed]"
     },
     "metadata": {
      "needs_background": "light"
     },
     "output_type": "display_data"
    },
    {
     "data": {
      "text/plain": "<Figure size 432x288 with 1 Axes>",
      "image/png": "[encoded data removed]"
     },
     "metadata": {
      "needs_background": "light"
     },
     "output_type": "display_data"
    },
    {
     "data": {
      "text/plain": "<Figure size 432x288 with 1 Axes>",
      "image/png": "[encoded data removed]"
     },
     "metadata": {
      "needs_background": "light"
     },
     "output_type": "display_data"
    },
    {
     "data": {
      "text/plain": "<Figure size 432x288 with 1 Axes>",
      "image/png": "[encoded data removed]"
     },
     "metadata": {
      "needs_background": "light"
     },
     "output_type": "display_data"
    },
    {
     "data": {
      "text/plain": "<Figure size 432x288 with 1 Axes>",
      "image/png": "[encoded data removed]"
     },
     "metadata": {
      "needs_background": "light"
     },
     "output_type": "display_data"
    },
    {
     "data": {
      "text/plain": "<Figure size 432x288 with 1 Axes>",
      "image/png": "[encoded data removed]"
     },
     "metadata": {
      "needs_background": "light"
     },
     "output_type": "display_data"
    }
   ],
   "source": [
    "show_centroids(centroids)"
   ],
   "metadata": {
    "collapsed": false,
    "pycharm": {
     "name": "#%%\n"
    }
   }
  },
  {
   "cell_type": "code",
   "execution_count": 56,
   "outputs": [
    {
     "name": "stdout",
     "output_type": "stream",
     "text": [
      "[6 3 1 8 3 7 0 2 4 1]\n"
     ]
    },
    {
     "data": {
      "text/plain": "<Figure size 432x288 with 2 Axes>",
      "image/png": "[encoded data removed]"
     },
     "metadata": {
      "needs_background": "light"
     },
     "output_type": "display_data"
    }
   ],
   "source": [
    "centroids_labels = pourcentage_train_tab(x_train, y_train, centroids, labels)\n",
    "print(centroids_labels)"
   ],
   "metadata": {
    "collapsed": false,
    "pycharm": {
     "name": "#%%\n"
    }
   }
  },
  {
   "cell_type": "code",
   "execution_count": 57,
   "outputs": [
    {
     "name": "stdout",
     "output_type": "stream",
     "text": [
      "[6 3 1 8 3 7 0 2 4 1]\n"
     ]
    },
    {
     "data": {
      "text/plain": "<Figure size 432x288 with 2 Axes>",
      "image/png": "[encoded data removed]"
     },
     "metadata": {
      "needs_background": "light"
     },
     "output_type": "display_data"
    }
   ],
   "source": [
    "test_centroids_labels = pourcentage_test_tab(x_test_t, y_test, KM, centroids)\n",
    "print(test_centroids_labels)"
   ],
   "metadata": {
    "collapsed": false,
    "pycharm": {
     "name": "#%%\n"
    }
   }
  },
  {
   "cell_type": "code",
   "execution_count": 58,
   "metadata": {},
   "outputs": [
    {
     "name": "stdout",
     "output_type": "stream",
     "text": [
      "train accuracy:\n",
      "KMeans Accuracy 66.09074947422909\n",
      "test accuracy:\n",
      "KMeans Accuracy 67.45744066616189\n"
     ]
    }
   ],
   "source": [
    "print(\"train accuracy:\")\n",
    "KM.evaluate_accuracy(x_train_t, y_train, centroids_labels)\n",
    "print(\"test accuracy:\")\n",
    "_ = KM.evaluate_accuracy(x_test_t, y_test, centroids_labels, True)"
   ]
  },
  {
   "cell_type": "code",
   "execution_count": 61,
   "metadata": {},
   "outputs": [
    {
     "name": "stdout",
     "output_type": "stream",
     "text": [
      "KMeans Accuracy 61.66602408916335\n",
      "KMeans Accuracy 62.63339592351252\n",
      "KMeans Accuracy 66.81094088204031\n",
      "KMeans Accuracy 66.40498491735922\n",
      "KMeans Accuracy 68.45594755419201\n",
      "KMeans Accuracy 61.52033175722638\n"
     ]
    },
    {
     "data": {
      "text/plain": "<Figure size 432x288 with 1 Axes>",
      "image/png": "[encoded data removed]"
     },
     "metadata": {
      "needs_background": "light"
     },
     "output_type": "display_data"
    }
   ],
   "source": [
    "KM = Kmeans()\n",
    "X = np.arange(10, 21, 2)\n",
    "Y = []\n",
    "for i in X:\n",
    "    centroids, labels = KM.fit(x_train_t, i, 16) \n",
    "    centroids_labels = pourcentage_train_tab(x_train, y_train, centroids, labels, False)\n",
    "    Y.append(KM.evaluate_accuracy(x_test_t, y_test, centroids_labels, True))\n",
    "\n",
    "plt.plot(X, Y)\n",
    "plt.show()"
   ]
  },
  {
   "cell_type": "markdown",
   "metadata": {
    "id": "OYoXyKrJgKQ3"
   },
   "source": [
    "# PART 2 - Naive Bayes\n",
    "Apply Naive Bayes classification to the digits classification problem. Train the model on the training dataset and evaluate on the testing set. Analyse your results"
   ]
  },
  {
   "cell_type": "markdown",
   "metadata": {
    "id": "1JSxEiE0gKQ4"
   },
   "source": [
    "## Question 4\n",
    "\n",
    "Implement Naive Bayes. Add comments to your code as necessary to make it more explicit"
   ]
  },
  {
   "cell_type": "code",
   "execution_count": 65,
   "metadata": {
    "id": "-SAl-m_6gKQ4"
   },
   "outputs": [],
   "source": [
    "from sklearn.naive_bayes import MultinomialNB\n",
    "from sklearn.metrics import accuracy_score, confusion_matrix, classification_report \n",
    "\n",
    "# set up the MultinomialNB classifier and train it\n",
    "classifierNB = MultinomialNB()\n",
    "classifierNB.fit(x_train_t, y_train)\n",
    "\n",
    "# prediction\n",
    "y_pred = classifierNB.predict(x_test_t)"
   ]
  },
  {
   "cell_type": "markdown",
   "metadata": {
    "id": "AXrTKTwngKQ5"
   },
   "source": [
    "## Question 5\n",
    "\n",
    "Analyse the results obtained on the testing dataset "
   ]
  },
  {
   "cell_type": "markdown",
   "source": [
    "For Naive Bayes method, we used the Class MultinomialNB. The accuracy obtained\n",
    "on the test dataset is around $83\\%$.\n",
    "\n",
    "The confusion matrix below, shows that for Naive Bayes, the digit $4$\n",
    "is mostly confused with digit $9$. $5$ mostly confused with $3$ and $8$.\n",
    "Meanwhile the digit $0$ is the least confused with other digits, with the highest precision of $93\\%$."
   ],
   "metadata": {
    "collapsed": false,
    "pycharm": {
     "name": "#%% md\n"
    }
   }
  },
  {
   "cell_type": "code",
   "execution_count": 66,
   "metadata": {
    "id": "Wg7ADXH3gKQ5"
   },
   "outputs": [
    {
     "name": "stdout",
     "output_type": "stream",
     "text": [
      "Accuracy : 0.8327\n",
      "\n",
      "Ou encore avec plus de détails:\n",
      "              precision    recall  f1-score   support\n",
      "\n",
      "           0       0.93      0.93      0.93       980\n",
      "           1       0.92      0.93      0.92      1135\n",
      "           2       0.89      0.82      0.85      1032\n",
      "           3       0.79      0.85      0.82      1010\n",
      "           4       0.81      0.73      0.77       982\n",
      "           5       0.85      0.67      0.75       892\n",
      "           6       0.90      0.89      0.89       958\n",
      "           7       0.94      0.83      0.88      1028\n",
      "           8       0.68      0.79      0.73       974\n",
      "           9       0.68      0.86      0.76      1009\n",
      "\n",
      "    accuracy                           0.83     10000\n",
      "   macro avg       0.84      0.83      0.83     10000\n",
      "weighted avg       0.84      0.83      0.83     10000\n",
      "\n",
      "Confusion matrix using MultinomialNB:\n"
     ]
    },
    {
     "data": {
      "text/plain": "<AxesSubplot:>"
     },
     "execution_count": 66,
     "metadata": {},
     "output_type": "execute_result"
    },
    {
     "data": {
      "text/plain": "<Figure size 432x288 with 1 Axes>",
      "image/png": "[encoded data removed]"
     },
     "metadata": {},
     "output_type": "display_data"
    }
   ],
   "source": [
    "accuracy = accuracy_score(y_test, y_pred) \n",
    "print(\"Accuracy : {0:.4f}\".format(accuracy))\n",
    "\n",
    "print(\"\\nOu encore avec plus de détails:\")\n",
    "print(classification_report(y_test, y_pred))\n",
    "\n",
    "print(\"Confusion matrix using MultinomialNB:\")\n",
    "cmNB = confusion_matrix(y_test, y_pred)\n",
    "\n",
    "#for visualisation of the confusion matrix\n",
    "import seaborn as sns; sns.set()  # for plot styling\n",
    "sns.heatmap(cmNB, square=True, annot=True, fmt='d', cbar=False, xticklabels = ['0', '1', '2', '3', '4', '5', '6', '7', '8', '9']\\\n",
    "           ,yticklabels =  ['0', '1', '2', '3', '4', '5', '6', '7', '8', '9'])"
   ]
  },
  {
   "cell_type": "markdown",
   "metadata": {
    "id": "y8r1K-jzgKQ5"
   },
   "source": [
    "# PART 3 - SVM\n",
    "Apply SVM classification with linear and polynomial/gaussian kernels to the digits classification problem. Train the models on the training dataset and evaluate on the testing set. Analyse your results"
   ]
  },
  {
   "cell_type": "markdown",
   "metadata": {
    "id": "sRzgtFdfgKQ6"
   },
   "source": [
    "## Question 6\n",
    "\n",
    "Implement SVM classification with linear and polynomial/gaussian kernels. Add comments to your code as necessary to make it more explicit"
   ]
  },
  {
   "cell_type": "code",
   "execution_count": 73,
   "metadata": {
    "id": "k5DFz4pugKQ6"
   },
   "outputs": [],
   "source": [
    "from sklearn import svm\n",
    "from itertools import product as prd\n",
    "\n",
    "C_set = [10**exp for exp in range(-3, 3)]"
   ]
  },
  {
   "cell_type": "code",
   "execution_count": 74,
   "metadata": {},
   "outputs": [],
   "source": [
    "class SVM(object):\n",
    "    \n",
    "    def __init__(self, C_set, kernel_set):\n",
    "        self.instance = svm.SVC()\n",
    "        self.optimal_params = None\n",
    "        self.max_acc = 0.\n",
    "        self.svm_params = [C_set, kernel_set, ['auto', 'scale']]\n",
    "\n",
    "    def searchOptimalParams(self, x_train, y_train, x_valid, y_valid):\n",
    "        for C_val, k_type, g_type in prd(*self.svm_params):\n",
    "            self.instance.set_params(**{'C':C_val, 'kernel':k_type, 'gamma': g_type})\n",
    "            self.instance.fit(x_train, y_train)\n",
    "\n",
    "            curr_acc = self.instance.score(x_valid, y_valid)\n",
    "\n",
    "            if (curr_acc > self.max_acc):\n",
    "                self.max_acc = curr_acc\n",
    "                self.optimal_params = [C_val, k_type, g_type]\n",
    "                \n",
    "    def showOptimalParams(self):\n",
    "         print(\"Optimal Params :\", str(self.optimal_params), \"with an accuracy of\"+ str(self.max_acc))\n",
    "    \n",
    "    def fitOptimalParams(self, x_train, y_train):\n",
    "        self.instance.set_params(**{'C':self.optimal_params[0], 'kernel':self.optimal_params[1], 'gamma': self.optimal_params[2]})\n",
    "        self.instance.fit(x_train, y_train)\n",
    "    \n",
    "    def getInstance(self):\n",
    "        return self.instance"
   ]
  },
  {
   "cell_type": "markdown",
   "metadata": {
    "id": "o5tIogXPgKQ7"
   },
   "source": [
    "## Question 7\n",
    "\n",
    "Analyse the results obtained on the testing dataset"
   ]
  },
  {
   "cell_type": "markdown",
   "source": [
    "For this implementation of SVM classifier, we tried the linear, polynomial and rbf kernels.\n",
    "\n",
    "For the $poly$ and $rbf$ kernels, we have properly separated 20% of the training set into a validation set\n",
    "in order to find the optimal hyper-parameters ($C$, $gamma$).\n",
    "\n",
    "As shown below, for the linear kernel (whose hyper-parameters weren't modified) we obtained a test accuracy of $91\\%$.\n",
    "\n",
    "For the polynomial kernel, we found that $C = 0.001$ is the optimal value (for the validation set). This allowed us\n",
    "to obtain an accuracy on the test set of $93\\%$, a small improvement compared to linear kernel.\n",
    "\n",
    "Finally, for the guassian kernel, we found that $C = 10$, $gamma = scale$ are the optimal values. The test accuracy\n",
    "obtained is around $95\\%$, yet another improvement compared to polynomial and linear kernels."
   ],
   "metadata": {
    "collapsed": false,
    "pycharm": {
     "name": "#%% md\n"
    }
   }
  },
  {
   "cell_type": "code",
   "execution_count": 72,
   "metadata": {
    "id": "gH4KGvdTgKQ7"
   },
   "outputs": [
    {
     "name": "stdout",
     "output_type": "stream",
     "text": [
      "Test accuracy with linear kernel: 0.9104\n",
      "Optimal params for poly kernel: [0.001, 'poly', 'auto']\n",
      "Test accuracy with polynomial kernel: 0.9381\n",
      "Optimal params for rbf kernel: [10, 'rbf', 'scale']\n",
      "Test accuracy with gaussian kernel: 0.9524\n"
     ]
    }
   ],
   "source": [
    "linear_svm = svm.SVC(kernel='linear')\n",
    "linear_svm.fit(x_train_t, y_train)\n",
    "accuracy = linear_svm.score(x_test_t, y_test)\n",
    "print(\"Test accuracy with linear kernel: {0:.4f}\".format(accuracy))\n",
    "\n",
    "# split train set in order to search for optimal hyperparams\n",
    "indices = np.random.permutation(n)\n",
    "x_train_1 = x_train_t[indices[:int(0.8 * n)], :]\n",
    "y_train_1 = y_train[indices[:int(0.8 * n)]]\n",
    "x_valid = x_train_t[indices[int(0.8 * n):], :]\n",
    "y_valid = y_train[indices[int(0.8 * n):]]\n",
    "\n",
    "# search params for polynomial kernel\n",
    "svm_poly = SVM(C_set, ['poly'])\n",
    "svm_poly.searchOptimalParams(x_train_1, y_train_1, x_valid, y_valid)\n",
    "print(\"Optimal params for poly kernel:\", svm_poly.optimal_params)\n",
    "svm_poly.fitOptimalParams(x_train_1, y_train_1)\n",
    "accuracy = svm_poly.instance.score(x_test_t, y_test)\n",
    "print(\"Test accuracy with polynomial kernel: {0:.4f}\".format(accuracy))\n",
    "\n",
    "# search params for rbf kernel\n",
    "svm_gauss = SVM(C_set, ['rbf'])\n",
    "svm_gauss.searchOptimalParams(x_train_1, y_train_1, x_valid, y_valid)\n",
    "print(\"Optimal params for rbf kernel:\", svm_gauss.optimal_params)\n",
    "svm_gauss.fitOptimalParams(x_train_1, y_train_1)\n",
    "accuracy = svm_gauss.instance.score(x_test_t, y_test)\n",
    "print(\"Test accuracy with gaussian kernel: {0:.4f}\".format(accuracy))"
   ]
  },
  {
   "cell_type": "markdown",
   "metadata": {
    "id": "ntPQCt3ggKQ-"
   },
   "source": [
    "# PART 4 - CNNs\n",
    "\n",
    "CNNs are specific artificial neural networks composed of *convolutional* layers, *maxpooling* operations, and\n",
    "*fully connected* layers.\n",
    "- Convolutional layers are like typical layers where the weight matrix has a specific structure that is relevant for signals and images.  \n",
    "They take as input $N$ images and produce as output $C$ images (called *feature maps* or *channels*).   \n",
    "They are parameterized by a collection of coeficients that defines a filter bank. Each filter performs a weighted average of its inputs within local sliding windows of size $K \\times K$  (pixels) where $K$ is a hyperparameter (a small odd number: 3, 5, 7, 9).  \n",
    "As for classical layers in neural networks, each feature map is next processed by an activation function such as  ReLU.  \n",
    "    \n",
    "- Maxpooling operations reduce the dimensions of the feature maps by picking the maximum value within local but non-overlapping sliding windows of size $L \\times L$ (pixels) where $L$ is another hyper-parameter (usually 2). Maxpooling does not introduce new parameters to be learned.  \n",
    "  \n",
    "- Fully connected layers are standard layers where the weight matrix does not have a specific structure: each of the $N$ output units is connected to each of the $M$ input units."
   ]
  },
  {
   "cell_type": "markdown",
   "metadata": {
    "id": "vox_yqZrgKQ_"
   },
   "source": [
    "## Question 8\n",
    "\n",
    "PyTorch expects that the input of a convolutional layer is stored in the following format:\n",
    "  $$\n",
    "  \\texttt{Batch size} \\times \\texttt{Number of input channels} \\times \\texttt{Image height} \\times \\texttt{Image width}\n",
    "  $$\n",
    "  \n",
    "The number of input channels in our case is 1 because MNIST is composed of grayscale images. It would have been 3 if the images were in RGB color.\n",
    "In deeper layers, the number of input channels will be the number of feature maps coming from the previous layer.\n",
    "\n",
    "Reorganise the tensors `x_train_im` and `x_test_im` accordingly.\n",
    "Hint:\n",
    "  Reshape them first with shape $\\texttt{(28, 28, 1, 60000)}$ and $\\texttt{(28, 28, 1, 10000)}$\n",
    "  respectively and then use `np.moveaxis`."
   ]
  },
  {
   "cell_type": "code",
   "execution_count": 75,
   "metadata": {
    "executionInfo": {
     "elapsed": 424,
     "status": "ok",
     "timestamp": 1619273946297,
     "user": {
      "displayName": "sohaib errabii",
      "photoUrl": "",
      "userId": "02539498648735437705"
     },
     "user_tz": -120
    },
    "id": "N6kJCKDfgKQ_"
   },
   "outputs": [],
   "source": [
    "x_train_im = np.moveaxis(x_train_im, [0, 1, 2], [-1, -2, -3])\n",
    "x_test_im = np.moveaxis(x_test_im, [0, 1, 2], [-1, -2, -3])"
   ]
  },
  {
   "cell_type": "markdown",
   "metadata": {
    "id": "N53lhKmJgKQ_"
   },
   "source": [
    "Let us also normalize MNIST testing and training data."
   ]
  },
  {
   "cell_type": "code",
   "execution_count": 77,
   "metadata": {
    "executionInfo": {
     "elapsed": 404,
     "status": "ok",
     "timestamp": 1619273947939,
     "user": {
      "displayName": "sohaib errabii",
      "photoUrl": "",
      "userId": "02539498648735437705"
     },
     "user_tz": -120
    },
    "id": "-Ef3SYpfgKRA"
   },
   "outputs": [],
   "source": [
    "def normalize_MNIST_images(x):\n",
    "    return 2 * x.astype(np.float32) / 255. - 1\n",
    "x_train_im = normalize_MNIST_images(x_train_im)\n",
    "x_test_im = normalize_MNIST_images(x_test_im)"
   ]
  },
  {
   "cell_type": "markdown",
   "metadata": {
    "id": "iScapAj6gKRA"
   },
   "source": [
    "and finally wrap all the data into torch Tensors"
   ]
  },
  {
   "cell_type": "code",
   "execution_count": 93,
   "metadata": {
    "executionInfo": {
     "elapsed": 404,
     "status": "ok",
     "timestamp": 1619273951881,
     "user": {
      "displayName": "sohaib errabii",
      "photoUrl": "",
      "userId": "02539498648735437705"
     },
     "user_tz": -120
    },
    "id": "Bnw9XmTTgKRA"
   },
   "outputs": [],
   "source": [
    "x_train_torch = torch.from_numpy(x_train_im)\n",
    "y_train_torch = torch.from_numpy(y_train)\n",
    "x_test_torch = torch.from_numpy(x_test_im)\n",
    "y_test_torch = torch.from_numpy(y_test)"
   ]
  },
  {
   "cell_type": "markdown",
   "metadata": {
    "id": "Tc0O16lIgKRA"
   },
   "source": [
    "## Question 9\n",
    "\n",
    "Neural networks can be constructed using the `torch.nn` package, which relies on `autograd` differentiation tools.\n",
    "This package provides an implementation of CNNs as follows:\n",
    "\n",
    "* Convolutional layers can be created as `nn.Conv2d(N, C, K)`.\n",
    "  For input images of size $W \\times H$, without padding the output feature maps have size $[W-K+1] \\times [H-K+1]$.\n",
    "* In PyTorch, maxpooling is implemented like any other non-linear function (such as\n",
    "  `ReLU` or `softmax`).\n",
    "  For input images of size $W \\times H$, the output feature maps\n",
    "  have size $\\lceil W/L \\rceil \\times \\lceil H/L \\rceil$.\n",
    "* A fully connected layer can be created as `nn.Linear(M, N)`.\n",
    "\n",
    "Our LeNet network will be composed successively of\n",
    "   1. a convolutional layer (i) connecting the input image to 6\n",
    "    feature maps with $5 \\times 5$ convolutions ($K = 5$) and followed\n",
    "    by ReLU and maxpooling (ii) ($L=2$),\n",
    "   2. a convolutional layer (iii) connecting the 6 input channels to 16\n",
    "    output channels with $5 \\times 5$ convolutions and followed\n",
    "    by ReLU and maxpooling (iv) ($L=2$),\n",
    "   3. a fully-connected layer connecting $16$ feature maps\n",
    "    to $120$ output units and followed by ReLU,\n",
    "   4. a fully-connected layer connecting $120$ inputs\n",
    "    to $84$ output units and followed by ReLU,\n",
    "   5. a final linear layer connecting $84$ inputs\n",
    "    to $10$ linear outputs (one for each of our digits).\n",
    "\n",
    "Determine the size of the feature maps after each convolution and maxpooling operation i.e. at points (i)-(iv) processing steps. "
   ]
  },
  {
   "cell_type": "markdown",
   "metadata": {
    "id": "891rKqhKgKRB"
   },
   "source": [
    "Lets consider one sample of size $28 \\times 28$.\n",
    "\n",
    "$(i)$ Applying $6$ filters of size $5 \\times 5$ with no padding and a stride of one would give us $6$ feature maps of size $24 \\times 24$ (taking into account the bias, this corresponds to $156$ parameters). \n",
    "\n",
    "$(ii)$ Following the maxpooling, each of the 6 feature maps will be reduced to $12 \\times 12$.\n",
    "\n",
    "$(iii)$ Considering a stride of one and no padding, we will obtain $16$ feature map each of size $8 \\times 8$ (this layer has $16\\times(5\\times 5\\times 6) + 16 =  2416$ parameters).\n",
    "\n",
    "$(iv)$ Following the maxpooling, each of the 16 feature maps will be reduced to $4 \\times 4$."
   ]
  },
  {
   "cell_type": "markdown",
   "metadata": {
    "id": "Ztn4dK-tgKRB"
   },
   "source": [
    "## Question 10\n",
    "\n",
    "Analyse and complete the following code initializing our LeNet network. \n",
    "\n",
    "Note that you just have to define the forward function, and the backward function (where gradients are computed) will be automatically defined for you using `autograd`.\n",
    "You can use any of the Torch tensor operations in the forward function.\n",
    "For more details, please refer to https://pytorch.org/docs/stable/nn.html"
   ]
  },
  {
   "cell_type": "code",
   "execution_count": 94,
   "metadata": {
    "colab": {
     "base_uri": "https://localhost:8080/"
    },
    "executionInfo": {
     "elapsed": 723,
     "status": "ok",
     "timestamp": 1619273956500,
     "user": {
      "displayName": "sohaib errabii",
      "photoUrl": "",
      "userId": "02539498648735437705"
     },
     "user_tz": -120
    },
    "id": "n4NF4TmmgKRC",
    "outputId": "67076d31-0db7-4edb-d474-327319ff7cc3"
   },
   "outputs": [
    {
     "name": "stdout",
     "output_type": "stream",
     "text": [
      "LeNet(\n",
      "  (conv1): Conv2d(1, 6, kernel_size=(5, 5), stride=(1, 1))\n",
      "  (conv2): Conv2d(6, 16, kernel_size=(5, 5), stride=(1, 1))\n",
      "  (fc1): Linear(in_features=256, out_features=120, bias=True)\n",
      "  (fc2): Linear(in_features=120, out_features=84, bias=True)\n",
      "  (fc3): Linear(in_features=84, out_features=10, bias=True)\n",
      ")\n"
     ]
    }
   ],
   "source": [
    "# The neural networks class\n",
    "class LeNet(nn.Module):\n",
    "\n",
    "    # define our network structure\n",
    "    def __init__(self):\n",
    "        super(LeNet, self).__init__()\n",
    "        self.conv1 = nn.Conv2d(1, 6 , 5)\n",
    "        self.conv2 = nn.Conv2d(6, 16, 5)\n",
    "        self.fc1 = nn.Linear(256, 120)\n",
    "        self.fc2 = nn.Linear(120, 84)\n",
    "        self.fc3 = nn.Linear(84, 10)\n",
    "\n",
    "    # define one forward pass through the network\n",
    "    def forward(self, x):\n",
    "        x = F.max_pool2d(F.relu(self.conv1(x)), (2, 2))\n",
    "        x = F.max_pool2d(F.relu(self.conv2(x)), (2, 2))\n",
    "        x = x.view(-1, self.num_flat_features(x))\n",
    "        x = F.relu(self.fc1(x))\n",
    "        x = F.relu(self.fc2(x))\n",
    "        x = self.fc3(x)\n",
    "        return x\n",
    "    \n",
    "    # helper function to understand the dimensions\n",
    "    def num_flat_features(self, x):\n",
    "        size = x.size()[1:] # all dimensions except the batch dimension\n",
    "        return np.prod(size)\n",
    "\n",
    "net = LeNet()\n",
    "print(net)"
   ]
  },
  {
   "cell_type": "markdown",
   "metadata": {
    "id": "Lg6WJmOwgKRC"
   },
   "source": [
    "## Question 11\n",
    "\n",
    "Run the following and interpret the results. What are the learnable parameters?  Are gradients going to be tracked for all parameters?"
   ]
  },
  {
   "cell_type": "code",
   "execution_count": 81,
   "metadata": {
    "colab": {
     "base_uri": "https://localhost:8080/"
    },
    "executionInfo": {
     "elapsed": 439,
     "status": "ok",
     "timestamp": 1619273959188,
     "user": {
      "displayName": "sohaib errabii",
      "photoUrl": "",
      "userId": "02539498648735437705"
     },
     "user_tz": -120
    },
    "id": "S74cB355gKRC",
    "outputId": "53afe924-a5c2-4aa3-e7e4-2c1a61a5c7ac"
   },
   "outputs": [
    {
     "name": "stdout",
     "output_type": "stream",
     "text": [
      "conv1.weight torch.Size([6, 1, 5, 5]) True\n",
      "conv1.bias torch.Size([6]) True\n",
      "conv2.weight torch.Size([16, 6, 5, 5]) True\n",
      "conv2.bias torch.Size([16]) True\n",
      "fc1.weight torch.Size([120, 256]) True\n",
      "fc1.bias torch.Size([120]) True\n",
      "fc2.weight torch.Size([84, 120]) True\n",
      "fc2.bias torch.Size([84]) True\n",
      "fc3.weight torch.Size([10, 84]) True\n",
      "fc3.bias torch.Size([10]) True\n"
     ]
    }
   ],
   "source": [
    "for name, param in net.named_parameters():\n",
    "    print(name, param.size(), param.requires_grad)  "
   ]
  },
  {
   "cell_type": "markdown",
   "metadata": {
    "id": "yK6vl-2RgKRD"
   },
   "source": [
    "This shows the learnable parameters (weights and biases) of each layer.\n",
    "\n",
    "We can see that the gradients are going to be tracked for all (learnable) parameters which is necessary\n",
    "for the backpropagation.\n",
    "\n",
    "This also confirms the estimated number of learnable parameters in the answer to question $9$.\n",
    "For example, the second convolutional layer had $16\\times5\\times5\\times6 + 16 = 2416$ parameters (weights and biases)."
   ]
  },
  {
   "cell_type": "markdown",
   "metadata": {
    "id": "Kyg38PbZgKRD"
   },
   "source": [
    "### Running a foward pass\n",
    "\n",
    "To run a forward pass of your initial network over your testing set, simply run the following code. \n",
    "\n",
    "Note that `with torch.no_grad()` is used to avoid tracking for\n",
    "gradient during testing and then save some computation time\n",
    "(refer to https://pytorch.org/docs/stable/autograd.html#torch.autograd.no_grad)."
   ]
  },
  {
   "cell_type": "code",
   "execution_count": 82,
   "metadata": {
    "executionInfo": {
     "elapsed": 1333,
     "status": "ok",
     "timestamp": 1619273965150,
     "user": {
      "displayName": "sohaib errabii",
      "photoUrl": "",
      "userId": "02539498648735437705"
     },
     "user_tz": -120
    },
    "id": "UZi-PWXngKRE"
   },
   "outputs": [],
   "source": [
    "with torch.no_grad():\n",
    "    pred = net(x_test_torch) # equivalent to pred = net.forward(x_test_torch)"
   ]
  },
  {
   "cell_type": "markdown",
   "metadata": {
    "id": "4qCzvHtegKRE"
   },
   "source": [
    "## Question 12\n",
    "\n",
    "Run the following and interpret the result"
   ]
  },
  {
   "cell_type": "code",
   "execution_count": 83,
   "metadata": {
    "colab": {
     "base_uri": "https://localhost:8080/"
    },
    "executionInfo": {
     "elapsed": 386,
     "status": "ok",
     "timestamp": 1619273967306,
     "user": {
      "displayName": "sohaib errabii",
      "photoUrl": "",
      "userId": "02539498648735437705"
     },
     "user_tz": -120
    },
    "id": "H7br-w0wgKRF",
    "outputId": "121e4c63-8a69-4bfc-b669-f79759d763c9"
   },
   "outputs": [
    {
     "name": "stdout",
     "output_type": "stream",
     "text": [
      "tensor(10.2600)\n"
     ]
    }
   ],
   "source": [
    "_, pred_labels = pred.max(1)\n",
    "print(100 * (y_test_torch == pred_labels).float().mean())"
   ]
  },
  {
   "cell_type": "markdown",
   "metadata": {
    "id": "ZXzde-BEgKRF"
   },
   "source": [
    "`pred.max(1)` returns the index (between 0 to 9) having the maximum value for each image of the test set.\n",
    "This index can be interpreted as the most likely digit represented by the image. The other option, would have\n",
    "been to use a `softmax` activation to obtain a probability distribution over the predicted outputs.\n",
    "\n",
    "The initial values given to the parameters of the network allowed us to obtain a test accuracy of $\\sim 10\\%$."
   ]
  },
  {
   "cell_type": "markdown",
   "metadata": {
    "id": "Dfamsa-HgKRF"
   },
   "source": [
    "## Question 13\n",
    "\n",
    "We will use (Mini-Batch) Stochastic Gradient Descent (SGD) with momentum, and cross-entropy as the loss.\n",
    "Complete the following function.\n",
    "\n",
    "For more details, refer to\n",
    "https://pytorch.org/docs/stable/nn.html and\n",
    "https://pytorch.org/docs/stable/optim.html.\n",
    "\n",
    "Note that PyTorch's `CrossEntropyLoss` is already the composition of a softmax activation with the standard cross-entropy loss."
   ]
  },
  {
   "cell_type": "code",
   "execution_count": 119,
   "metadata": {
    "executionInfo": {
     "elapsed": 459,
     "status": "ok",
     "timestamp": 1619273974085,
     "user": {
      "displayName": "sohaib errabii",
      "photoUrl": "",
      "userId": "02539498648735437705"
     },
     "user_tz": -120
    },
    "id": "Av-6gslogKRG"
   },
   "outputs": [],
   "source": [
    "# T: number of epochs\n",
    "# B: minibatch size, \n",
    "# gamma: step size,\n",
    "# rho: momentum.\n",
    "def backprop_deep(x_train, y_train, net, T, B=100, gamma=.001, rho=.9):\n",
    "    N = x_train.size()[0]        # Training set size\n",
    "    NB = N // B   # Number of minibatches\n",
    "    criterion = nn.CrossEntropyLoss()\n",
    "    optimizer = torch.optim.SGD(net.parameters(), lr=gamma, momentum=rho)\n",
    "    \n",
    "    loss_values = []\n",
    "    for epoch in range(T):\n",
    "        running_loss = 0.0\n",
    "        test_loss = 0.0\n",
    "        shuffled_indices = np.random.permutation(range(N))\n",
    "        for k in range(NB):\n",
    "            # Extract k-th minibatch from xtrain and ltrain\n",
    "            minibatch_indices = shuffled_indices[B*k:min(B*(k+1), N)]\n",
    "            inputs = x_train[minibatch_indices, ...]\n",
    "            labels = y_train[minibatch_indices, ...]\n",
    "            \n",
    "            # Initialize the gradients to zero\n",
    "            optimizer.zero_grad()\n",
    "\n",
    "            # Forward propogation\n",
    "            outputs = net(inputs) \n",
    "\n",
    "            # Error evaluation\n",
    "            loss = criterion(outputs, labels)\n",
    "            \n",
    "            # Back propogation\n",
    "            loss.backward()\n",
    "\n",
    "            # Optimize step\n",
    "            optimizer.step()\n",
    "\n",
    "            # Compute and print statistics\n",
    "            with torch.no_grad():\n",
    "                running_loss += loss.item()*inputs.size(0)\n",
    "  \n",
    "        loss_values.append(running_loss/NB)\n",
    "\n",
    "    plt.plot(loss_values, label=\"train loss\")\n",
    "    plt.xlabel(\"epoch\")\n",
    "    plt.legend()"
   ]
  },
  {
   "cell_type": "markdown",
   "metadata": {
    "id": "qT_MGIvwgKRG"
   },
   "source": [
    "## Question 14\n",
    "\n",
    "Run the function for 50 epochs, it may take several minutes. The number of epochs has to be adapted to reach convergence as most as possible.\n",
    "The loss per minibatch should decay (it may take some time). Explain the curve."
   ]
  },
  {
   "cell_type": "code",
   "execution_count": 96,
   "metadata": {
    "colab": {
     "base_uri": "https://localhost:8080/",
     "height": 265
    },
    "executionInfo": {
     "elapsed": 54734,
     "status": "ok",
     "timestamp": 1619274031759,
     "user": {
      "displayName": "sohaib errabii",
      "photoUrl": "",
      "userId": "02539498648735437705"
     },
     "user_tz": -120
    },
    "id": "MPJ6trIOgKRG",
    "outputId": "751fe2fe-54dc-4f50-9885-36300649793f"
   },
   "outputs": [
    {
     "data": {
      "text/plain": "<Figure size 432x288 with 1 Axes>",
      "image/png": "[encoded data removed]"
     },
     "metadata": {},
     "output_type": "display_data"
    }
   ],
   "source": [
    "backprop_deep(x_train_torch, y_train_torch, net, T=100)"
   ]
  },
  {
   "cell_type": "markdown",
   "metadata": {
    "id": "HH9qxzO2gKRG"
   },
   "source": [
    "At first glance, running the function `backprop_deep` for $50-100$ epochs seems to be enough to reach a rather low value\n",
    "for the running loss.\n",
    "\n",
    "On the other hand, we notice that the loss only starts decreasing after about $10$ epochs. This is probably due to the low\n",
    "value of the learning rate ($0.001$). We have tried a learning rate of $0.01$, it allowed us to reach convergence faster\n",
    "as the loss started decreasing immediately without overshooting.\n"
   ]
  },
  {
   "cell_type": "markdown",
   "metadata": {
    "id": "YHvzT4-EgKRH"
   },
   "source": [
    "## Question 16\n",
    "\n",
    "Analyse the results obtained by applying the network to the testing dataset. "
   ]
  },
  {
   "cell_type": "markdown",
   "source": [
    "The results below shows that we have managed to obtain a test accuracy of $\\sim 96\\%$ with $n = 5000$.\n",
    "\n",
    "In order to understand how much the value of $n$ (the number of samples in the training set) affects the test\n",
    "accuracy, we have trained several instances of the network with different values of $n$ (cf function `accuracy_with_n`).\n",
    "\n",
    "The figure below, shows clearly the importance of using a larger training set.\n",
    "(the figure is actually inversed, n = f(accuracy) due to a mistake in the code)"
   ],
   "metadata": {
    "collapsed": false,
    "pycharm": {
     "name": "#%% md\n"
    }
   }
  },
  {
   "cell_type": "code",
   "execution_count": 98,
   "metadata": {
    "colab": {
     "base_uri": "https://localhost:8080/"
    },
    "executionInfo": {
     "elapsed": 1315,
     "status": "ok",
     "timestamp": 1619274063849,
     "user": {
      "displayName": "sohaib errabii",
      "photoUrl": "",
      "userId": "02539498648735437705"
     },
     "user_tz": -120
    },
    "id": "CZab9pbdgKRI",
    "outputId": "dbd64265-a7cb-4a70-8434-6dceb317215f"
   },
   "outputs": [
    {
     "name": "stdout",
     "output_type": "stream",
     "text": [
      "Accuracy: tensor(96.2600)\n"
     ]
    }
   ],
   "source": [
    "pred = net(x_test_torch)\n",
    "_, pred_labels = pred.max(1)\n",
    "print(\"Accuracy: \" + str(100 * (y_test_torch == pred_labels).float().mean()))"
   ]
  },
  {
   "cell_type": "code",
   "execution_count": 99,
   "metadata": {
    "id": "3Wo0nlz6gKRI"
   },
   "outputs": [
    {
     "data": {
      "text/plain": "<Figure size 432x288 with 1 Axes>",
      "image/png": "[encoded data removed]"
     },
     "metadata": {},
     "output_type": "display_data"
    },
    {
     "name": "stdout",
     "output_type": "stream",
     "text": [
      "the label of image 42 is 6\n"
     ]
    }
   ],
   "source": [
    "x_test_im = x_test.reshape((28, 28, 1, -1))\n",
    "# let us show image number 50 and its label\n",
    "MNISTtools.show(x_test_im[:, :, 0, 50])\n",
    "print(\"the label of image 42 is\", pred_labels[50].item())"
   ]
  },
  {
   "cell_type": "code",
   "execution_count": 124,
   "outputs": [
    {
     "data": {
      "text/plain": "<Figure size 432x288 with 1 Axes>",
      "image/png": "[encoded data removed]"
     },
     "metadata": {},
     "output_type": "display_data"
    }
   ],
   "source": [
    "def accuracy_with_n():\n",
    "    n_values = range(4000, 60000, 10000)\n",
    "    accu_values = []\n",
    "    for n in n_values:\n",
    "        # init\n",
    "        x_train, y_train = MNISTtools.load(dataset='training')\n",
    "        x_train = x_train[:,1:n+1]\n",
    "        y_train = y_train[1:n+1]\n",
    "\n",
    "        # preprocess\n",
    "        x_train_im = x_train.reshape((28, 28, 1, -1))\n",
    "        x_train_im = np.moveaxis(x_train_im, [0, 1, 2], [-1, -2, -3])\n",
    "        x_train_im = normalize_MNIST_images(x_train_im)\n",
    "        x_train_torch = torch.from_numpy(x_train_im)\n",
    "        y_train_torch = torch.from_numpy(y_train)\n",
    "\n",
    "        # train\n",
    "        net = LeNet()\n",
    "        backprop_deep(x_train_torch, y_train_torch, net, gamma=0.01, T=100)\n",
    "\n",
    "        # predict\n",
    "        pred = net(x_test_torch)\n",
    "        _, pred_labels = pred.max(1)\n",
    "        accu_values.append(100 * (y_test_torch == pred_labels).float().mean())\n",
    "\n",
    "    #plt.plot(accu_values, n_values)\n",
    "    plt.plot(n_values, accu_values)\n",
    "    plt.ylabel(\"accuracy\")\n",
    "    plt.xlabel(\"n: size of train set\")\n",
    "    plt.show()\n",
    "\n",
    "accuracy_with_n()"
   ],
   "metadata": {
    "collapsed": false,
    "pycharm": {
     "name": "#%%\n"
    }
   }
  },
  {
   "cell_type": "markdown",
   "metadata": {
    "id": "-rleGvPRgKRI"
   },
   "source": [
    "# PART 5 - Comparison and conclusion"
   ]
  },
  {
   "cell_type": "markdown",
   "metadata": {
    "id": "86BkRiAcgKRI",
    "pycharm": {
     "name": "#%% md\n"
    }
   },
   "source": [
    "We have applied Kmeans, Naive Bayes, SVM and CNN on the MNIST dataset.\n",
    "From left to right, we have managed to obtain an increasing test accuracy.\n",
    "\n",
    "Kmeans in particular doesn't seem to be suitable for this particular classification\n",
    "problem because the distance (the difference of norm of the images) between the images doesn't\n",
    "separate the categories into different clusters.\n",
    "\n",
    "Naive Bayes gave us a test accuracy $\\gt 80\\%$ which is acceptable if we take into account the low\n",
    "computing cost. However, from the confusion matrix we can see that many images are missclassified. This is probably\n",
    "due to the oversimplified model; the independence assumption of the pixels is definitely not realistic.\n",
    "\n",
    "With SVM we have obtained accuracies higher than $90\\%$. $91\\%$ when using a linear kernel and $95\\%$ when we used\n",
    "the rbf kernel with optimized hyper-parameters. This shows that the problem is highly non-linear.\n",
    "\n",
    "Using CNN, we have managed to obtain $96\\%$ with only $50$ epochs. We have also managed to reach $99\\%$ accuracy\n",
    "when we trained the network on the whole training set ($n = 60000$).\n",
    "\n",
    "In conclusion, both SVM (with non-linear kernels) and CNN are suitable to handle this classification problem. CNN in particular allowed\n",
    "us to reach extremely high accuracies by increasing the number of epochs and the size of the training set."
   ]
  }
 ],
 "metadata": {
  "colab": {
   "collapsed_sections": [
    "35VZ2RmIgKQt",
    "LgDZhqvxgKQu",
    "1JSxEiE0gKQ4",
    "AXrTKTwngKQ5",
    "sRzgtFdfgKQ6",
    "o5tIogXPgKQ7"
   ],
   "name": "Assignment1-MNIST.ipynb",
   "provenance": []
  },
  "kernelspec": {
   "display_name": "Python 3",
   "language": "python",
   "name": "python3"
  },
  "language_info": {
   "codemirror_mode": {
    "name": "ipython",
    "version": 3
   },
   "file_extension": ".py",
   "mimetype": "text/x-python",
   "name": "python",
   "nbconvert_exporter": "python",
   "pygments_lexer": "ipython3",
   "version": "3.6.9"
  },
  "latex_envs": {
   "LaTeX_envs_menu_present": true,
   "autoclose": false,
   "autocomplete": true,
   "bibliofile": "biblio.bib",
   "cite_by": "apalike",
   "current_citInitial": 1,
   "eqLabelWithNumbers": true,
   "eqNumInitial": 1,
   "hotkeys": {
    "equation": "Ctrl-E",
    "itemize": "Ctrl-I"
   },
   "labels_anchors": false,
   "latex_user_defs": false,
   "report_style_numbering": false,
   "user_envs_cfg": false
  }
 },
 "nbformat": 4,
 "nbformat_minor": 1
}