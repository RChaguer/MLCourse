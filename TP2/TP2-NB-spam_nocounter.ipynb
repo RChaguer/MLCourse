{
 "cells": [
  {
   "cell_type": "markdown",
   "metadata": {},
   "source": [
    "Binôme: Reda Chaguer, Sohaib Errabii"
   ]
  },
  {
   "cell_type": "markdown",
   "metadata": {},
   "source": [
    "# IF240 - Apprentissage et deep learning\n",
    "\n",
    "## Practice 2: Naive Bayes, Evaluation Metrics, SVM \n",
    "\n",
    "By Aurélie Bugeau\n",
    "Credits:  Vincent Lepetit, Varun Kumar, Mohit Deshpande"
   ]
  },
  {
   "cell_type": "markdown",
   "metadata": {},
   "source": [
    "### Objectives \n",
    "The objective of the practice is to clssifiy emails from a dataset as spam or non-spam. \n",
    "You will compare diffrent classification methods: Naive Bayes and SVM, ansd implement several validation metrics\n",
    "\n",
    "### Libraries\n",
    "The code needs to import the following libraries"
   ]
  },
  {
   "cell_type": "code",
   "execution_count": 169,
   "metadata": {},
   "outputs": [],
   "source": [
    "import pandas as pd\n",
    "import numpy as np\n",
    "import math\n",
    "import re\n",
    "import string"
   ]
  },
  {
   "cell_type": "markdown",
   "metadata": {},
   "source": [
    "## 1 Dataset\n",
    "\n",
    "#### Presentation and Loading\n",
    "The dataset used here contained 747 spam and 4825 non-spam (i.e. ham) mails. \n",
    "Emails in the corpus have been already pre-processed in the following ways:\n",
    "Removal of stop words (and, the, of, etc) and lemmatization (inludes, included, include are now all considered as include)"
   ]
  },
  {
   "cell_type": "code",
   "execution_count": 170,
   "metadata": {},
   "outputs": [
    {
     "name": "stdout",
     "output_type": "stream",
     "text": [
      "ham     4825\n",
      "spam     747\n",
      "Name: Category, dtype: int64\n",
      "  Category                                            Message\n",
      "0      ham  Go until jurong point, crazy.. Available only ...\n",
      "1      ham                      Ok lar... Joking wif u oni...\n",
      "2     spam  Free entry in 2 a wkly comp to win FA Cup fina...\n",
      "3      ham  U dun say so early hor... U c already then say...\n",
      "4      ham  Nah I don't think he goes to usf, he lives aro... \n",
      "\n"
     ]
    }
   ],
   "source": [
    "#Open the dataset\n",
    "mails = pd.read_csv(\"spamham.csv\")\n",
    "#count the number of spam/ham mails\n",
    "count = mails['Category'].value_counts()\n",
    "print(count)\n",
    "print(mails.head(), '\\n')"
   ]
  },
  {
   "cell_type": "markdown",
   "metadata": {},
   "source": [
    "#### Training and evaluation sets\n",
    "Split the dataset into training and evaluation sets."
   ]
  },
  {
   "cell_type": "code",
   "execution_count": 171,
   "metadata": {},
   "outputs": [
    {
     "name": "stdout",
     "output_type": "stream",
     "text": [
      "taille du training set: 4389\n",
      "taille du testing set: 1183\n"
     ]
    }
   ],
   "source": [
    "# split data as train and evaluation sets. \n",
    "msk = np.random.rand(len(mails)) < 0.8\n",
    "training_set = mails[msk]\n",
    "print(\"taille du training set: \" + str(len(training_set)))\n",
    "testing_set = mails[~msk];\n",
    "print(\"taille du testing set: \" + str(len(testing_set)))\n"
   ]
  },
  {
   "cell_type": "markdown",
   "metadata": {},
   "source": [
    "## 2 Naive Bayes Classification\n",
    "The classifier must be able to predict the label based on the text by implementing the following pseudo code:\n",
    "\n",
    "`\n",
    "if (P('ham' | message ) > P( 'spam' | message )) {\n",
    "  return ‘ham’;\n",
    "} \n",
    "else {\n",
    "  return ‘spam’;\n",
    "}\n",
    "`\n",
    "\n",
    "where\n",
    "$$ P(ham | message)~=~ {\\rm Probability ~that~ email~ is ~ham~ given~ that~ it~ has~ certain~ features~} $$\n",
    "The features can for instance be a set of given words.\n",
    "$$ P(spam | message)~=~ {\\rm Probability ~that~ email~ is ~spam~ given~ that~ it~ has~ certain~ features~} $$\n",
    "\n"
   ]
  },
  {
   "cell_type": "markdown",
   "metadata": {},
   "source": [
    "### Question 1 \n",
    "\n",
    "Apply the Naive Bayes formula in the following code to implement a classifier. You will consider that:\n",
    "$$P(message | spam) = P(word1 | spam) * P(word2 | spam) *...$$\n",
    "\n",
    " \n",
    "_Note:_ if a word in the testing dataset is not present in the training dataset, you may encounter problems as $P(new | ham)$ or $P(new | spam)$ will be 0 making all product equal to 0.\n",
    "To solve this problem, we should take log on both sides. New pseudo code will be\n",
    "\n",
    "`\n",
    "if (log(P('ham' | message )) > log(P('spam' | message))) {\n",
    "  return ‘ham’;\n",
    "} else {\n",
    "  return ‘spam’;\n",
    "}\n",
    "`\n",
    "\n",
    "Then \n",
    "$$ log(P(message| spam)) =  log(P(word1 | spam)) + log(P(word2 | spam)) …$$\n",
    "\n",
    "But the problem is still not solved. If the classifier encounters a new word that is not present in our training data sets then P(new-word | category) will be 0 and log(0) is undefined. To solve this problem, you must use Laplace smoothing:\n",
    "\n",
    "$$P(word1 | spam) = \\frac{{\\rm number~ of ~}word1 {\\rm~belonging~ to ~category~ spam + 1}}{{\\rm  number ~ of ~words~ belonging~ to ~spam ~}+{ \\rm ~number ~of~ distinct ~words~ in ~training ~datasets~}}$$\n"
   ]
  },
  {
   "cell_type": "code",
   "execution_count": 172,
   "metadata": {},
   "outputs": [
    {
     "name": "stdout",
     "output_type": "stream",
     "text": [
      "[['spam', 'spam'], ['ham', 'ham'], ['ham', 'ham'], ['spam', 'spam'], ['ham', 'ham']]\n"
     ]
    }
   ],
   "source": [
    "\n",
    "#tokenize a string into words    \n",
    "def tokenize(text):\n",
    "    return re.split(\"\\W+\", str(text))\n",
    "    \n",
    "class SpamDetectorNB(object):\n",
    "    \n",
    "    def __init__(self):\n",
    "        self.numberOfmessages = {} \n",
    "        self.log_class_priors = {}\n",
    "        self.word_counts = {}\n",
    "        self.word_index = {}\n",
    "        self.vocab = set()\n",
    "    \n",
    "\n",
    "    # compute log class priors log(𝑃(ℎ𝑎𝑚)) and log(𝑃(sp𝑎𝑚))  \n",
    "    #by counting up how many spam/ham messages are in our dataset and dividing by the total number\n",
    "    def log_priors(self, training_set):\n",
    "        nb_ham = training_set['Category'].value_counts()['ham']\n",
    "        nb_spam = training_set['Category'].value_counts()['spam']\n",
    "        self.log_class_priors['spam'] = np.log(nb_spam / nb_ham + nb_spam)\n",
    "        self.log_class_priors['ham'] = np.log(nb_ham / nb_ham + nb_spam)\n",
    "             \n",
    "    #Count how many times each word appears in a text. \n",
    "    #Returns a dictionary that contain for each word indicates the number of times it appears in text. \n",
    "    def get_word_counts(self, text):\n",
    "        word_counts = {}\n",
    "        for w in tokenize(text):\n",
    "            word_counts[w] = word_counts.get(w, 0) + 1\n",
    "        #You can use the Python dictionary method get()\n",
    "        return word_counts\n",
    "    \n",
    "    #Create a dictionary (a vocabulary of words)\n",
    "    #and count words frequency for spam and ham separately\n",
    "    def get_word_frequency(self, training_set):\n",
    "        self.word_counts['spam'] = {}\n",
    "        self.word_counts['ham'] = {}\n",
    "        for _, mail in training_set.iterrows():\n",
    "            label = mail['Category']\n",
    "            text = mail['Message']\n",
    "            #Tokenize each message into words.\n",
    "            counts = self.get_word_counts(tokenize(text))\n",
    "            for word, count in counts.items():\n",
    "                if word not in self.vocab:\n",
    "                    self.word_index[word] = len(self.vocab)\n",
    "                    self.vocab.add(word)\n",
    "                if word not in self.word_counts[label]:\n",
    "                    self.word_counts[label][word] = 0.0\n",
    "                self.word_counts[label][word] += count\n",
    "                \n",
    "                \n",
    "    #compute all necessary features\n",
    "    def train(self, training_set):\n",
    "        self.log_priors(training_set)\n",
    "        self.get_word_frequency(training_set)\n",
    "        \n",
    "        \n",
    "    def predict(self, testing_set):\n",
    "        result = []\n",
    "        for _, mail in testing_set.iterrows():\n",
    "            label = mail['Category']\n",
    "            text = mail['Message']\n",
    "            \n",
    "            #Tokenize each message into words.\n",
    "            counts = self.get_word_counts(tokenize(text))\n",
    "            \n",
    "            #Initialize 𝑙𝑜𝑔(𝑃(spam|message)) and 𝑙𝑜𝑔(𝑃(ham|message))  according to log priors\n",
    "            log_spam = self.log_class_priors['spam']\n",
    "            log_ham = self.log_class_priors['ham']\n",
    "            \n",
    "            #For each message, compute 𝑙𝑜𝑔(𝑃(𝑚𝑒𝑠𝑠𝑎𝑔𝑒|𝑠𝑝𝑎𝑚)) and 𝑙𝑜𝑔(𝑃(𝑚𝑒𝑠𝑠𝑎𝑔𝑒|𝑠𝑝𝑎𝑚)) \n",
    "            for word, _ in counts.items():\n",
    "                if word not in self.vocab: continue         \n",
    "                #For each word compute log(P(w/spam)) and log(P(w/ham))\n",
    "                occurrences_in_spam = self.word_counts['spam'].get(word, 0)\n",
    "                log_w_spam = np.log(occurrences_in_spam + 1 / (len(self.word_counts['spam']) + len(self.vocab)))\n",
    "                \n",
    "                occurrences_in_ham = self.word_counts['ham'].get(word, 0)\n",
    "                log_w_ham = np.log(occurrences_in_ham + 1 / (len(self.word_counts['ham']) + len(self.vocab)))\n",
    "                \n",
    "                #Update 𝑙𝑜𝑔(𝑃(𝑚𝑒𝑠𝑠𝑎𝑔𝑒|𝑠𝑝𝑎𝑚)) and 𝑙𝑜𝑔(𝑃(𝑚𝑒𝑠𝑠𝑎𝑔𝑒|𝑠𝑝𝑎𝑚)) \n",
    "                log_spam += log_w_spam\n",
    "                log_ham += log_w_ham\n",
    "                \n",
    "                \n",
    "            #decide spam or ham\n",
    "            if(log_ham > log_spam):\n",
    "                result.append([label, 'ham'])\n",
    "            else:\n",
    "                result.append([label, 'spam'])            \n",
    "\n",
    "        return result             \n",
    "    \n",
    "sd = SpamDetectorNB()\n",
    "sd.train(training_set)\n",
    "result = sd.predict(testing_set)\n",
    "print(result[:5])"
   ]
  },
  {
   "cell_type": "markdown",
   "metadata": {},
   "source": [
    "### Question 2 - Accuracy and confution matrix\n",
    "Compute the precision, recall, accuracy and confusion matrix"
   ]
  },
  {
   "cell_type": "code",
   "execution_count": 173,
   "metadata": {},
   "outputs": [
    {
     "name": "stdout",
     "output_type": "stream",
     "text": [
      "Precision for spam: 0.9851\n",
      "Precision for ham: 0.9762\n",
      "Recall for spam: 0.8408\n",
      "Recall for ham: 0.9981\n",
      "Accuracy : 0.9772\n",
      "\n",
      "Confusion matrix using SpamDetectorNB:\n",
      "       spam     ham\n",
      "spam  132.0    25.0\n",
      "ham     2.0  1024.0\n"
     ]
    }
   ],
   "source": [
    "#value at index = 0 is actual label and index = 1 is predicted label\n",
    "tp_spam = 0\n",
    "fp_spam = 0\n",
    "\n",
    "tp_ham = 0\n",
    "fp_ham = 0\n",
    "for i in range(len(result)):\n",
    "    if result[i][0] == result[i][1]:\n",
    "        if result[i][0] == 'spam':\n",
    "            tp_spam += 1\n",
    "        else:\n",
    "            tp_ham += 1\n",
    "    else:\n",
    "        if result[i][1] == 'spam':\n",
    "            fp_spam += 1\n",
    "        else:\n",
    "            fp_ham += 1\n",
    "\n",
    "precision_spam = tp_spam / (tp_spam + fp_spam)\n",
    "print(\"Precision for spam: {0:.4f}\".format(precision_spam))\n",
    "precision_ham = tp_ham / (tp_ham + fp_ham)\n",
    "print(\"Precision for ham: {0:.4f}\".format(precision_ham))\n",
    "\n",
    "# false negatives of spam == false positives of ham and vice versa\n",
    "recall_spam = tp_spam / (tp_spam + fp_ham)\n",
    "print(\"Recall for spam: {0:.4f}\".format(recall_spam))\n",
    "recall_ham = tp_ham / (tp_ham + fp_spam)\n",
    "print(\"Recall for ham: {0:.4f}\".format(recall_ham))\n",
    "\n",
    "# true negatives of spam == true positives of ham and vice versa\n",
    "# accuracy of spam == accuracy of ham\n",
    "accuracy = (tp_spam + tp_ham) / (tp_spam + tp_ham + fp_spam + fp_ham) \n",
    "print(\"Accuracy : {0:.4f}\".format(accuracy))\n",
    "\n",
    "print(\"\\nConfusion matrix using SpamDetectorNB:\")\n",
    "confusion_mat = np.zeros((2, 2))\n",
    "confusion_mat[0, 0] = tp_spam\n",
    "confusion_mat[0, 1] = fp_ham # equal to false negatives of spam\n",
    "confusion_mat[1, 0] = fp_spam\n",
    "confusion_mat[1, 1] = tp_ham # equal to true negatives of spam\n",
    "\n",
    "classes = ['spam', 'ham']\n",
    "confusion_df = pd.DataFrame(confusion_mat, index=classes, columns=classes)\n",
    "print(confusion_df)"
   ]
  },
  {
   "cell_type": "markdown",
   "metadata": {},
   "source": [
    "### Question 3 - Naive Bayes with Scikit-learn library\n",
    "The Scikit-learn library proposes many functions for machine learning.  Study the documentation of the  MultinomialNB function and apply it for spam detection.\n",
    "\n",
    "You will need to convert the dataset into arrays\n"
   ]
  },
  {
   "cell_type": "code",
   "execution_count": 174,
   "metadata": {},
   "outputs": [
    {
     "data": {
      "text/plain": [
       "array([1, 0, 1, 1, 1, 1, 0, 1, 1, 1, 1, 1, 1, 1, 1, 1, 0, 1, 1, 1])"
      ]
     },
     "execution_count": 174,
     "metadata": {},
     "output_type": "execute_result"
    }
   ],
   "source": [
    "from sklearn.naive_bayes import MultinomialNB\n",
    "from sklearn.feature_extraction.text import CountVectorizer\n",
    "from sklearn.preprocessing import LabelEncoder\n",
    "from sklearn.model_selection import train_test_split\n",
    "\n",
    "# preprocessing\n",
    "vectorizer = CountVectorizer()\n",
    "x = vectorizer.fit_transform(mails['Message']).toarray()\n",
    "y = 1 - LabelEncoder().fit_transform(mails['Category']) # spam = 0 and ham = 1\n",
    "\n",
    "# split train and test sets\n",
    "x_train, x_test, y_train, y_test = train_test_split(x, y, random_state=0)\n",
    "\n",
    "# set up the MultinomialNB classifier and train it\n",
    "classifierMNB = MultinomialNB()\n",
    "classifierMNB.fit(x_train, y_train)\n",
    "\n",
    "# prediction\n",
    "y_pred = classifierMNB.predict(x_test)\n",
    "y_pred[:20]"
   ]
  },
  {
   "cell_type": "markdown",
   "metadata": {},
   "source": [
    "### Question 4 - Evaluation with Scikit-learn library\n",
    "The Scikit-learn library also proposes  functions to evaluate machine learning methods. Apply them to the spam detection problem"
   ]
  },
  {
   "cell_type": "code",
   "execution_count": 175,
   "metadata": {},
   "outputs": [
    {
     "name": "stdout",
     "output_type": "stream",
     "text": [
      "Accuracy : 0.9806\n",
      "\n",
      "Ou encore avec plus de détails:\n",
      "              precision    recall  f1-score   support\n",
      "\n",
      "           0       0.92      0.93      0.93       185\n",
      "           1       0.99      0.99      0.99      1208\n",
      "\n",
      "    accuracy                           0.98      1393\n",
      "   macro avg       0.96      0.96      0.96      1393\n",
      "weighted avg       0.98      0.98      0.98      1393\n",
      "\n",
      "Confusion matrix using MultinomialNB:\n"
     ]
    },
    {
     "data": {
      "text/plain": [
       "<AxesSubplot:>"
      ]
     },
     "execution_count": 175,
     "metadata": {},
     "output_type": "execute_result"
    },
    {
     "data": {
      "image/png": "[encoded data removed]",
      "text/plain": [
       "<Figure size 432x288 with 1 Axes>"
      ]
     },
     "metadata": {},
     "output_type": "display_data"
    }
   ],
   "source": [
    "from sklearn.metrics import accuracy_score, confusion_matrix, classification_report \n",
    "\n",
    "accuracy = accuracy_score(y_test, y_pred) \n",
    "print(\"Accuracy : {0:.4f}\".format(accuracy))\n",
    "\n",
    "print(\"\\nOu encore avec plus de détails:\")\n",
    "print(classification_report(y_test, y_pred))\n",
    "\n",
    "print(\"Confusion matrix using MultinomialNB:\")\n",
    "cmMNB = confusion_matrix(y_test, y_pred)\n",
    "#for visualisation of the confusion matrix\n",
    "import seaborn as sns; sns.set()  # for plot styling\n",
    "sns.heatmap(cmMNB, square=True, annot=True, fmt='d', cbar=False, xticklabels = ['spam', 'ham']\\\n",
    "           ,yticklabels = ['spam', 'ham'])\n"
   ]
  },
  {
   "cell_type": "markdown",
   "metadata": {},
   "source": [
    "### Question 5 - SVM Scikit-learn library\n",
    "Apply SVM with a linear kernel to the spam dataset. "
   ]
  },
  {
   "cell_type": "code",
   "execution_count": 176,
   "metadata": {},
   "outputs": [
    {
     "name": "stdout",
     "output_type": "stream",
     "text": [
      "Accuracy : 0.9842\n",
      "Confusion matrix using LinearSVC:\n"
     ]
    },
    {
     "data": {
      "text/plain": [
       "<AxesSubplot:>"
      ]
     },
     "execution_count": 176,
     "metadata": {},
     "output_type": "execute_result"
    },
    {
     "data": {
      "image/png": "[encoded data removed]",
      "text/plain": [
       "<Figure size 432x288 with 1 Axes>"
      ]
     },
     "metadata": {},
     "output_type": "display_data"
    }
   ],
   "source": [
    "from sklearn.svm import LinearSVC\n",
    "\n",
    "# train classifier\n",
    "classifierLSVC = LinearSVC()\n",
    "classifierLSVC.fit(x_train, y_train)\n",
    "\n",
    "# prediction\n",
    "y_pred = classifierLSVC.predict(x_test)\n",
    "y_pred[:20]\n",
    "\n",
    "# evaluation\n",
    "accuracy = accuracy_score(y_test, y_pred) \n",
    "print(\"Accuracy : {0:.4f}\".format(accuracy))\n",
    "\n",
    "print(\"Confusion matrix using LinearSVC:\")\n",
    "cmMNB = confusion_matrix(y_test, y_pred)\n",
    "#for visualisation of the confusion matrix\n",
    "import seaborn as sns; sns.set()  # for plot styling\n",
    "sns.heatmap(cmMNB, square=True, annot=True, fmt='d', cbar=False, xticklabels = ['spam', 'ham']\\\n",
    "           ,yticklabels = ['spam', 'ham'])"
   ]
  }
 ],
 "metadata": {
  "kernelspec": {
   "display_name": "Python 3",
   "language": "python",
   "name": "python3"
  },
  "language_info": {
   "codemirror_mode": {
    "name": "ipython",
    "version": 3
   },
   "file_extension": ".py",
   "mimetype": "text/x-python",
   "name": "python",
   "nbconvert_exporter": "python",
   "pygments_lexer": "ipython3",
   "version": "3.6.9"
  },
  "latex_envs": {
   "LaTeX_envs_menu_present": true,
   "autoclose": false,
   "autocomplete": true,
   "bibliofile": "biblio.bib",
   "cite_by": "apalike",
   "current_citInitial": 1,
   "eqLabelWithNumbers": true,
   "eqNumInitial": 1,
   "hotkeys": {
    "equation": "Ctrl-E",
    "itemize": "Ctrl-I"
   },
   "labels_anchors": false,
   "latex_user_defs": false,
   "report_style_numbering": false,
   "user_envs_cfg": false
  }
 },
 "nbformat": 4,
 "nbformat_minor": 2
}
