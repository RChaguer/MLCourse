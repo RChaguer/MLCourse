{
 "cells": [
  {
   "cell_type": "markdown",
   "metadata": {},
   "source": [
    "# IF240 - Apprentissage et deep learning\n",
    "\n",
    "## Practice 1: Kmeans algorithm\n",
    "\n",
    "By Aurélie Bugeau\n",
    "Credits:  Chris Piech and Andrew Ng"
   ]
  },
  {
   "cell_type": "markdown",
   "metadata": {},
   "source": [
    "K-Means is an algorithm that takes aims at clustering a given dataset into $k$ groups (called clusters) of data similar to each other. Each cluster is characterized by its centroid. \n",
    "In this practice, you are going to implement the kmeans algorithm and apply it on different dataset.\n",
    "\n",
    "1. Read and understand the kmeans function below\n",
    "2. Complete the following functions\n",
    "3. Experiment and validate on a toy dataset"
   ]
  },
  {
   "cell_type": "code",
   "execution_count": null,
   "metadata": {},
   "outputs": [],
   "source": [
    "import numpy as np\n",
    "\n",
    "# Function: K Means\n",
    "# -------------\n",
    "def kmeans(dataSet, k, MAX_ITERATIONS=5):\n",
    "    \n",
    "    centroids = getRandomCentroids(dataSet, k)\n",
    "    iterations = 0\n",
    "    oldCentroids = None\n",
    "    \n",
    "    while not shouldStop(oldCentroids, centroids, iterations, MAX_ITERATIONS):\n",
    "        oldCentroids = centroids\n",
    "        iterations += 1\n",
    "        labels = getLabels(dataSet, centroids)\n",
    "        centroids = getCentroids(dataSet, labels, k)\n",
    "    \n",
    "    return centroids, labels\n"
   ]
  },
  {
   "cell_type": "code",
   "execution_count": null,
   "metadata": {},
   "outputs": [],
   "source": [
    "# Function: getRandomCentroids\n",
    "# -------------\n",
    "# Initialize centroids by choosing randomly k points from the dataset\n",
    "def getRandomCentroids(dataSet, numClusters):\n",
    "    numPoints, _ = dataSet.shape\n",
    "    centroids = dataSet[np.random.randint(numPoints, size =  numClusters), :]\n",
    "    return centroids"
   ]
  },
  {
   "cell_type": "code",
   "execution_count": null,
   "metadata": {},
   "outputs": [],
   "source": [
    "# Function: shouldStop\n",
    "# -------------\n",
    "# Returns True or False if k-means if the maximum number of iterations is reached \n",
    "# or if the centroids do not change anymore\n",
    "def shouldStop(oldCentroids, centroids, iterations, MAX_ITERATIONS):\n",
    "    #COMPLETE\n",
    "\n",
    "\n",
    "\n",
    "\n"
   ]
  },
  {
   "cell_type": "code",
   "execution_count": null,
   "metadata": {},
   "outputs": [],
   "source": [
    "# Function: getLabels\n",
    "# -------------\n",
    "# Returns the label for each point in the dataSet. The label is the one of the closest centroid\n",
    "def getLabels(dataSet, centroids):\n",
    "    #COMPLETE\n",
    "\n",
    "    \n",
    "    "
   ]
  },
  {
   "cell_type": "code",
   "execution_count": null,
   "metadata": {},
   "outputs": [],
   "source": [
    "# Function: getCentroids\n",
    "# -------------\n",
    "# Returns the centroids of the clusters. Each centroid is the geometric mean of the points that\n",
    "# have that centroid's label. Important: If a centroid is empty (no points have\n",
    "# that centroid's label) you should randomly re-initialize it.\n",
    "def getCentroids(dataSet, labels, k):\n",
    "    #COMPLETE\n"
   ]
  },
  {
   "cell_type": "markdown",
   "metadata": {},
   "source": [
    "### Toy dataset\n",
    "\n",
    "Experiment your algorithm on different sets of points with different values of $k$. <span style=\"color:red\">Analyze you results</span>."
   ]
  },
  {
   "cell_type": "code",
   "execution_count": null,
   "metadata": {},
   "outputs": [],
   "source": [
    "x1 = np.array([1, 1])\n",
    "x2 = np.array([2, 2])\n",
    "x3 = np.array([3, 3])\n",
    "x4 = np.array([4, 4])\n",
    "testX = np.vstack((x1, x2, x3, x4))\n",
    "result = kmeans(testX, 1)\n"
   ]
  },
  {
   "cell_type": "markdown",
   "metadata": {},
   "source": [
    "### 2D Point Cloud\n",
    "You are now going to test and plot the result on a 2D point cloud"
   ]
  },
  {
   "cell_type": "code",
   "execution_count": null,
   "metadata": {},
   "outputs": [],
   "source": [
    "%matplotlib inline\n",
    "import matplotlib.pyplot as plt\n",
    "import seaborn as sns; sns.set()  # for plot styling"
   ]
  },
  {
   "cell_type": "code",
   "execution_count": null,
   "metadata": {},
   "outputs": [],
   "source": [
    "# dataset generation\n",
    "from sklearn.datasets.samples_generator import make_blobs\n",
    "X, y_true = make_blobs(n_samples=300, centers=4,\n",
    "                       cluster_std=0.60, random_state=0)\n",
    "plt.scatter(X[:, 0], X[:, 1], s=50);"
   ]
  },
  {
   "cell_type": "code",
   "execution_count": null,
   "metadata": {},
   "outputs": [],
   "source": [
    "# Apply kmeans\n",
    "#COMPLETE\n",
    "\n",
    "#plot the labels\n",
    "plt.scatter(X[:, 0], X[:, 1], c=labels, s=50, cmap='viridis')\n",
    "\n",
    "#plot the centers\n",
    "#COMPLETE\n",
    "plt.scatter(centers[:, 0], centers[:, 1], c='black', s=200, alpha=0.5)"
   ]
  },
  {
   "cell_type": "markdown",
   "metadata": {},
   "source": [
    "#### Scikit-learn library\n",
    "The Scikit-learn library proposes many functions for machine learning. You are going to compare the results obtained by your implementation with the ones from this library. \n",
    "\n",
    "* Study the documentation of the KMeans function and apply it to the 2D dataset.\n",
    "* Compare"
   ]
  },
  {
   "cell_type": "code",
   "execution_count": null,
   "metadata": {},
   "outputs": [],
   "source": [
    "from sklearn.cluster import KMeans\n",
    "#COMPLETE"
   ]
  },
  {
   "cell_type": "markdown",
   "metadata": {},
   "source": [
    "### 2 moons problem\n",
    "Observe and explain the clustering in 2 classes obtained on the following dataset"
   ]
  },
  {
   "cell_type": "code",
   "execution_count": null,
   "metadata": {
    "scrolled": true
   },
   "outputs": [],
   "source": [
    "from sklearn.datasets import make_moons\n",
    "X, y = make_moons(200, noise=.05, random_state=0)\n",
    "#COMPLETE"
   ]
  },
  {
   "cell_type": "markdown",
   "metadata": {},
   "source": [
    "### 3D Point Cloud\n",
    "Observe and explain the clustering on a 3D point cloud (<span style=\"color:red\">Analyze you results</span>)"
   ]
  },
  {
   "cell_type": "code",
   "execution_count": null,
   "metadata": {},
   "outputs": [],
   "source": [
    "from mpl_toolkits.mplot3d import Axes3D\n",
    "fig = plt.figure()\n",
    "ax = Axes3D(fig)\n",
    "X = np.random.rand(50,3)\n",
    "ax.scatter(X[:, 0], X[:, 1],X[:, 2], s=20)\n",
    "plt.show()\n",
    "\n",
    "#COMPLETE"
   ]
  }
 ],
 "metadata": {
  "kernelspec": {
   "display_name": "Python 3",
   "language": "python",
   "name": "python3"
  },
  "language_info": {
   "codemirror_mode": {
    "name": "ipython",
    "version": 3
   },
   "file_extension": ".py",
   "mimetype": "text/x-python",
   "name": "python",
   "nbconvert_exporter": "python",
   "pygments_lexer": "ipython3",
   "version": "3.7.3"
  },
  "latex_envs": {
   "LaTeX_envs_menu_present": true,
   "autoclose": false,
   "autocomplete": true,
   "bibliofile": "biblio.bib",
   "cite_by": "apalike",
   "current_citInitial": 1,
   "eqLabelWithNumbers": true,
   "eqNumInitial": 1,
   "hotkeys": {
    "equation": "Ctrl-E",
    "itemize": "Ctrl-I"
   },
   "labels_anchors": false,
   "latex_user_defs": false,
   "report_style_numbering": false,
   "user_envs_cfg": false
  }
 },
 "nbformat": 4,
 "nbformat_minor": 2
}
